{
 "cells": [
  {
   "cell_type": "code",
   "execution_count": 1,
   "id": "f81db4f3",
   "metadata": {},
   "outputs": [],
   "source": [
    "import numpy as np\n",
    "import pandas as pd\n",
    "from sklearn.decomposition import PCA\n",
    "\n",
    "import matplotlib.pyplot as plt\n",
    "import seaborn as sns\n",
    "from sklearn.metrics import accuracy_score\n",
    "from sklearn.metrics import confusion_matrix\n",
    "from sklearn.metrics import confusion_matrix, precision_score, recall_score, accuracy_score,f1_score\n",
    "from sklearn.metrics import classification_report, roc_curve, average_precision_score, precision_recall_curve, roc_auc_score\n",
    "\n"
   ]
  },
  {
   "cell_type": "code",
   "execution_count": 2,
   "id": "493c6942",
   "metadata": {},
   "outputs": [
    {
     "name": "stdout",
     "output_type": "stream",
     "text": [
      "shape of the train (26570, 26)\n",
      "shape of the test (20775, 25)\n"
     ]
    }
   ],
   "source": [
    "train = pd.read_csv('train.csv/train.csv')\n",
    "test = pd.read_csv('test.csv/test.csv')\n",
    "\n",
    "print(\"shape of the train\", train.shape)\n",
    "print(\"shape of the test\", test.shape)\n"
   ]
  },
  {
   "cell_type": "code",
   "execution_count": 3,
   "id": "1cec2a5e",
   "metadata": {},
   "outputs": [
    {
     "name": "stdout",
     "output_type": "stream",
     "text": [
      "number of unique rows in train 26570\n",
      "number of unique rows in test 20775\n"
     ]
    }
   ],
   "source": [
    "print(\"number of unique rows in train\",len(train[\"id\"].unique()))\n",
    "print(\"number of unique rows in test\", len(test[\"id\"].unique()))"
   ]
  },
  {
   "cell_type": "code",
   "execution_count": 4,
   "id": "d9575c17",
   "metadata": {},
   "outputs": [
    {
     "data": {
      "text/html": [
       "<div>\n",
       "<style scoped>\n",
       "    .dataframe tbody tr th:only-of-type {\n",
       "        vertical-align: middle;\n",
       "    }\n",
       "\n",
       "    .dataframe tbody tr th {\n",
       "        vertical-align: top;\n",
       "    }\n",
       "\n",
       "    .dataframe thead th {\n",
       "        text-align: right;\n",
       "    }\n",
       "</style>\n",
       "<table border=\"1\" class=\"dataframe\">\n",
       "  <thead>\n",
       "    <tr style=\"text-align: right;\">\n",
       "      <th></th>\n",
       "      <th>id</th>\n",
       "      <th>product_code</th>\n",
       "      <th>loading</th>\n",
       "      <th>attribute_0</th>\n",
       "      <th>attribute_1</th>\n",
       "      <th>attribute_2</th>\n",
       "      <th>attribute_3</th>\n",
       "      <th>measurement_0</th>\n",
       "      <th>measurement_1</th>\n",
       "      <th>measurement_2</th>\n",
       "      <th>...</th>\n",
       "      <th>measurement_9</th>\n",
       "      <th>measurement_10</th>\n",
       "      <th>measurement_11</th>\n",
       "      <th>measurement_12</th>\n",
       "      <th>measurement_13</th>\n",
       "      <th>measurement_14</th>\n",
       "      <th>measurement_15</th>\n",
       "      <th>measurement_16</th>\n",
       "      <th>measurement_17</th>\n",
       "      <th>failure</th>\n",
       "    </tr>\n",
       "  </thead>\n",
       "  <tbody>\n",
       "    <tr>\n",
       "      <th>0</th>\n",
       "      <td>0</td>\n",
       "      <td>A</td>\n",
       "      <td>80.10</td>\n",
       "      <td>material_7</td>\n",
       "      <td>material_8</td>\n",
       "      <td>9</td>\n",
       "      <td>5</td>\n",
       "      <td>7</td>\n",
       "      <td>8</td>\n",
       "      <td>4</td>\n",
       "      <td>...</td>\n",
       "      <td>10.672</td>\n",
       "      <td>15.859</td>\n",
       "      <td>17.594</td>\n",
       "      <td>15.193</td>\n",
       "      <td>15.029</td>\n",
       "      <td>NaN</td>\n",
       "      <td>13.034</td>\n",
       "      <td>14.684</td>\n",
       "      <td>764.100</td>\n",
       "      <td>0</td>\n",
       "    </tr>\n",
       "    <tr>\n",
       "      <th>1</th>\n",
       "      <td>1</td>\n",
       "      <td>A</td>\n",
       "      <td>84.89</td>\n",
       "      <td>material_7</td>\n",
       "      <td>material_8</td>\n",
       "      <td>9</td>\n",
       "      <td>5</td>\n",
       "      <td>14</td>\n",
       "      <td>3</td>\n",
       "      <td>3</td>\n",
       "      <td>...</td>\n",
       "      <td>12.448</td>\n",
       "      <td>17.947</td>\n",
       "      <td>17.915</td>\n",
       "      <td>11.755</td>\n",
       "      <td>14.732</td>\n",
       "      <td>15.425</td>\n",
       "      <td>14.395</td>\n",
       "      <td>15.631</td>\n",
       "      <td>682.057</td>\n",
       "      <td>0</td>\n",
       "    </tr>\n",
       "  </tbody>\n",
       "</table>\n",
       "<p>2 rows × 26 columns</p>\n",
       "</div>"
      ],
      "text/plain": [
       "   id product_code  loading attribute_0 attribute_1  attribute_2  attribute_3  \\\n",
       "0   0            A    80.10  material_7  material_8            9            5   \n",
       "1   1            A    84.89  material_7  material_8            9            5   \n",
       "\n",
       "   measurement_0  measurement_1  measurement_2  ...  measurement_9  \\\n",
       "0              7              8              4  ...         10.672   \n",
       "1             14              3              3  ...         12.448   \n",
       "\n",
       "   measurement_10  measurement_11  measurement_12  measurement_13  \\\n",
       "0          15.859          17.594          15.193          15.029   \n",
       "1          17.947          17.915          11.755          14.732   \n",
       "\n",
       "   measurement_14  measurement_15  measurement_16  measurement_17  failure  \n",
       "0             NaN          13.034          14.684         764.100        0  \n",
       "1          15.425          14.395          15.631         682.057        0  \n",
       "\n",
       "[2 rows x 26 columns]"
      ]
     },
     "execution_count": 4,
     "metadata": {},
     "output_type": "execute_result"
    }
   ],
   "source": [
    "train.head(2)"
   ]
  },
  {
   "cell_type": "code",
   "execution_count": 5,
   "id": "418bb4f6",
   "metadata": {},
   "outputs": [
    {
     "data": {
      "text/plain": [
       "C    5765\n",
       "E    5343\n",
       "B    5250\n",
       "D    5112\n",
       "A    5100\n",
       "Name: product_code, dtype: int64"
      ]
     },
     "execution_count": 5,
     "metadata": {},
     "output_type": "execute_result"
    }
   ],
   "source": [
    "train.product_code.value_counts()"
   ]
  },
  {
   "cell_type": "code",
   "execution_count": 6,
   "id": "1f7ea62a",
   "metadata": {},
   "outputs": [
    {
     "data": {
      "text/plain": [
       "material_7    21320\n",
       "material_5     5250\n",
       "Name: attribute_0, dtype: int64"
      ]
     },
     "execution_count": 6,
     "metadata": {},
     "output_type": "execute_result"
    }
   ],
   "source": [
    "train.attribute_0.value_counts()"
   ]
  },
  {
   "cell_type": "code",
   "execution_count": 7,
   "id": "63fc0515",
   "metadata": {},
   "outputs": [
    {
     "data": {
      "text/html": [
       "<div>\n",
       "<style scoped>\n",
       "    .dataframe tbody tr th:only-of-type {\n",
       "        vertical-align: middle;\n",
       "    }\n",
       "\n",
       "    .dataframe tbody tr th {\n",
       "        vertical-align: top;\n",
       "    }\n",
       "\n",
       "    .dataframe thead th {\n",
       "        text-align: right;\n",
       "    }\n",
       "</style>\n",
       "<table border=\"1\" class=\"dataframe\">\n",
       "  <thead>\n",
       "    <tr style=\"text-align: right;\">\n",
       "      <th></th>\n",
       "      <th>id</th>\n",
       "      <th>product_code</th>\n",
       "      <th>loading</th>\n",
       "      <th>attribute_0</th>\n",
       "      <th>attribute_1</th>\n",
       "      <th>attribute_2</th>\n",
       "      <th>attribute_3</th>\n",
       "      <th>measurement_0</th>\n",
       "      <th>measurement_1</th>\n",
       "      <th>measurement_2</th>\n",
       "      <th>...</th>\n",
       "      <th>measurement_8</th>\n",
       "      <th>measurement_9</th>\n",
       "      <th>measurement_10</th>\n",
       "      <th>measurement_11</th>\n",
       "      <th>measurement_12</th>\n",
       "      <th>measurement_13</th>\n",
       "      <th>measurement_14</th>\n",
       "      <th>measurement_15</th>\n",
       "      <th>measurement_16</th>\n",
       "      <th>measurement_17</th>\n",
       "    </tr>\n",
       "  </thead>\n",
       "  <tbody>\n",
       "    <tr>\n",
       "      <th>0</th>\n",
       "      <td>26570</td>\n",
       "      <td>F</td>\n",
       "      <td>119.57</td>\n",
       "      <td>material_5</td>\n",
       "      <td>material_6</td>\n",
       "      <td>6</td>\n",
       "      <td>4</td>\n",
       "      <td>6</td>\n",
       "      <td>9</td>\n",
       "      <td>6</td>\n",
       "      <td>...</td>\n",
       "      <td>18.654</td>\n",
       "      <td>10.802</td>\n",
       "      <td>15.909</td>\n",
       "      <td>18.07</td>\n",
       "      <td>13.772</td>\n",
       "      <td>13.659</td>\n",
       "      <td>16.825</td>\n",
       "      <td>13.742</td>\n",
       "      <td>17.710</td>\n",
       "      <td>634.612</td>\n",
       "    </tr>\n",
       "    <tr>\n",
       "      <th>1</th>\n",
       "      <td>26571</td>\n",
       "      <td>F</td>\n",
       "      <td>113.51</td>\n",
       "      <td>material_5</td>\n",
       "      <td>material_6</td>\n",
       "      <td>6</td>\n",
       "      <td>4</td>\n",
       "      <td>11</td>\n",
       "      <td>8</td>\n",
       "      <td>0</td>\n",
       "      <td>...</td>\n",
       "      <td>19.368</td>\n",
       "      <td>12.032</td>\n",
       "      <td>13.998</td>\n",
       "      <td>NaN</td>\n",
       "      <td>12.473</td>\n",
       "      <td>17.468</td>\n",
       "      <td>16.708</td>\n",
       "      <td>14.776</td>\n",
       "      <td>14.102</td>\n",
       "      <td>537.037</td>\n",
       "    </tr>\n",
       "  </tbody>\n",
       "</table>\n",
       "<p>2 rows × 25 columns</p>\n",
       "</div>"
      ],
      "text/plain": [
       "      id product_code  loading attribute_0 attribute_1  attribute_2  \\\n",
       "0  26570            F   119.57  material_5  material_6            6   \n",
       "1  26571            F   113.51  material_5  material_6            6   \n",
       "\n",
       "   attribute_3  measurement_0  measurement_1  measurement_2  ...  \\\n",
       "0            4              6              9              6  ...   \n",
       "1            4             11              8              0  ...   \n",
       "\n",
       "   measurement_8  measurement_9  measurement_10  measurement_11  \\\n",
       "0         18.654         10.802          15.909           18.07   \n",
       "1         19.368         12.032          13.998             NaN   \n",
       "\n",
       "   measurement_12  measurement_13  measurement_14  measurement_15  \\\n",
       "0          13.772          13.659          16.825          13.742   \n",
       "1          12.473          17.468          16.708          14.776   \n",
       "\n",
       "   measurement_16  measurement_17  \n",
       "0          17.710         634.612  \n",
       "1          14.102         537.037  \n",
       "\n",
       "[2 rows x 25 columns]"
      ]
     },
     "execution_count": 7,
     "metadata": {},
     "output_type": "execute_result"
    }
   ],
   "source": [
    "test.head(2)"
   ]
  },
  {
   "cell_type": "code",
   "execution_count": 8,
   "id": "bd7a688a",
   "metadata": {},
   "outputs": [
    {
     "data": {
      "text/plain": [
       "F    5422\n",
       "I    5228\n",
       "G    5107\n",
       "H    5018\n",
       "Name: product_code, dtype: int64"
      ]
     },
     "execution_count": 8,
     "metadata": {},
     "output_type": "execute_result"
    }
   ],
   "source": [
    "test.product_code.value_counts()"
   ]
  },
  {
   "cell_type": "code",
   "execution_count": 9,
   "id": "bb7ea85f",
   "metadata": {},
   "outputs": [
    {
     "data": {
      "text/plain": [
       "material_5    10529\n",
       "material_7    10246\n",
       "Name: attribute_0, dtype: int64"
      ]
     },
     "execution_count": 9,
     "metadata": {},
     "output_type": "execute_result"
    }
   ],
   "source": [
    "test.attribute_0.value_counts()"
   ]
  },
  {
   "cell_type": "code",
   "execution_count": 10,
   "id": "ea607188",
   "metadata": {},
   "outputs": [
    {
     "data": {
      "image/png": "[encoded data removed]",
      "text/plain": [
       "<Figure size 432x288 with 1 Axes>"
      ]
     },
     "metadata": {},
     "output_type": "display_data"
    }
   ],
   "source": [
    "train.attribute_1.value_counts().plot.pie();"
   ]
  },
  {
   "cell_type": "code",
   "execution_count": 11,
   "id": "8bd06619",
   "metadata": {},
   "outputs": [
    {
     "data": {
      "image/png": "[encoded data removed]",
      "text/plain": [
       "<Figure size 432x288 with 1 Axes>"
      ]
     },
     "metadata": {},
     "output_type": "display_data"
    }
   ],
   "source": [
    "test.attribute_1.value_counts().plot.pie();"
   ]
  },
  {
   "cell_type": "code",
   "execution_count": 12,
   "id": "8fcd1a5a",
   "metadata": {},
   "outputs": [
    {
     "data": {
      "text/plain": [
       "id                   0\n",
       "product_code         0\n",
       "loading            250\n",
       "attribute_0          0\n",
       "attribute_1          0\n",
       "attribute_2          0\n",
       "attribute_3          0\n",
       "measurement_0        0\n",
       "measurement_1        0\n",
       "measurement_2        0\n",
       "measurement_3      381\n",
       "measurement_4      538\n",
       "measurement_5      676\n",
       "measurement_6      796\n",
       "measurement_7      937\n",
       "measurement_8     1048\n",
       "measurement_9     1227\n",
       "measurement_10    1300\n",
       "measurement_11    1468\n",
       "measurement_12    1601\n",
       "measurement_13    1774\n",
       "measurement_14    1874\n",
       "measurement_15    2009\n",
       "measurement_16    2110\n",
       "measurement_17    2284\n",
       "failure              0\n",
       "dtype: int64"
      ]
     },
     "execution_count": 12,
     "metadata": {},
     "output_type": "execute_result"
    }
   ],
   "source": [
    "train.isnull().sum()"
   ]
  },
  {
   "cell_type": "code",
   "execution_count": 13,
   "id": "24838441",
   "metadata": {},
   "outputs": [
    {
     "data": {
      "image/png": "[encoded data removed]",
      "text/plain": [
       "<Figure size 432x288 with 1 Axes>"
      ]
     },
     "metadata": {
      "needs_background": "light"
     },
     "output_type": "display_data"
    }
   ],
   "source": [
    "sns.histplot(data=train, x=\"loading\");"
   ]
  },
  {
   "cell_type": "code",
   "execution_count": 14,
   "id": "16be0eb6",
   "metadata": {},
   "outputs": [
    {
     "data": {
      "image/png": "[encoded data removed]",
      "text/plain": [
       "<Figure size 432x288 with 1 Axes>"
      ]
     },
     "metadata": {
      "needs_background": "light"
     },
     "output_type": "display_data"
    }
   ],
   "source": [
    "sns.histplot(data=test, x=\"loading\");"
   ]
  },
  {
   "cell_type": "code",
   "execution_count": 15,
   "id": "3f4db87e",
   "metadata": {},
   "outputs": [],
   "source": [
    "# Droping the product_Code as this feature is have equal categories in train and test\n",
    "train.drop(\"product_code\", axis=1, inplace=True)\n",
    "test.drop(\"product_code\", axis=1, inplace=True)\n"
   ]
  },
  {
   "cell_type": "code",
   "execution_count": 16,
   "id": "571b87ea",
   "metadata": {},
   "outputs": [
    {
     "data": {
      "text/plain": [
       "id                  int64\n",
       "loading           float64\n",
       "attribute_0        object\n",
       "attribute_1        object\n",
       "attribute_2         int64\n",
       "attribute_3         int64\n",
       "measurement_0       int64\n",
       "measurement_1       int64\n",
       "measurement_2       int64\n",
       "measurement_3     float64\n",
       "measurement_4     float64\n",
       "measurement_5     float64\n",
       "measurement_6     float64\n",
       "measurement_7     float64\n",
       "measurement_8     float64\n",
       "measurement_9     float64\n",
       "measurement_10    float64\n",
       "measurement_11    float64\n",
       "measurement_12    float64\n",
       "measurement_13    float64\n",
       "measurement_14    float64\n",
       "measurement_15    float64\n",
       "measurement_16    float64\n",
       "measurement_17    float64\n",
       "failure             int64\n",
       "dtype: object"
      ]
     },
     "execution_count": 16,
     "metadata": {},
     "output_type": "execute_result"
    }
   ],
   "source": [
    "train.dtypes"
   ]
  },
  {
   "cell_type": "code",
   "execution_count": 17,
   "id": "c86ec11e",
   "metadata": {},
   "outputs": [],
   "source": [
    "#Let's fill the loading feature with median\n",
    "#Median_loading = df[\"loading\"].median()\n",
    "# df[\"loading\"].fillna(df[\"loading\"].mean(), inplace=True) filling with single columns\n",
    "# df.apply(lambda x: x.fillna(x.mean(), axis=0))\n",
    "for i in train.columns[train.isnull().any(axis=0)]:\n",
    "    train[i].fillna(train[i].mean(), inplace=True)\n",
    "\n",
    "for i in test.columns[test.isnull().any(axis=0)]:\n",
    "    test[i].fillna(test[i].mean(), inplace=True)\n",
    "    "
   ]
  },
  {
   "cell_type": "code",
   "execution_count": 18,
   "id": "85ff4033",
   "metadata": {},
   "outputs": [
    {
     "data": {
      "text/plain": [
       "id                0\n",
       "loading           0\n",
       "attribute_0       0\n",
       "attribute_1       0\n",
       "attribute_2       0\n",
       "attribute_3       0\n",
       "measurement_0     0\n",
       "measurement_1     0\n",
       "measurement_2     0\n",
       "measurement_3     0\n",
       "measurement_4     0\n",
       "measurement_5     0\n",
       "measurement_6     0\n",
       "measurement_7     0\n",
       "measurement_8     0\n",
       "measurement_9     0\n",
       "measurement_10    0\n",
       "measurement_11    0\n",
       "measurement_12    0\n",
       "measurement_13    0\n",
       "measurement_14    0\n",
       "measurement_15    0\n",
       "measurement_16    0\n",
       "measurement_17    0\n",
       "dtype: int64"
      ]
     },
     "execution_count": 18,
     "metadata": {},
     "output_type": "execute_result"
    }
   ],
   "source": [
    "test.isnull().sum()"
   ]
  },
  {
   "cell_type": "code",
   "execution_count": 19,
   "id": "eb2ad5ed",
   "metadata": {},
   "outputs": [],
   "source": [
    "#split the attribute_2 and attribute_3\n",
    "train[\"attribute_0\"] = pd.factorize(train.attribute_0)[0]\n",
    "train[\"attribute_1\"] = pd.factorize(train.attribute_1)[0]\n",
    "\n",
    "test[\"attribute_0\"] = pd.factorize(test.attribute_0)[0]\n",
    "test[\"attribute_1\"] = pd.factorize(test.attribute_1)[0]\n",
    "\n",
    "#df[\"product_code\"] = pd.factorize(df.product_code)[0]\n"
   ]
  },
  {
   "cell_type": "code",
   "execution_count": 20,
   "id": "ab9b4615",
   "metadata": {},
   "outputs": [
    {
     "data": {
      "text/plain": [
       "0    20921\n",
       "1     5649\n",
       "Name: failure, dtype: int64"
      ]
     },
     "execution_count": 20,
     "metadata": {},
     "output_type": "execute_result"
    }
   ],
   "source": [
    "train.failure.value_counts()"
   ]
  },
  {
   "cell_type": "code",
   "execution_count": 21,
   "id": "90243af7",
   "metadata": {},
   "outputs": [],
   "source": [
    "X = train.drop(\"failure\", axis=1)\n",
    "y = train[\"failure\"]"
   ]
  },
  {
   "cell_type": "code",
   "execution_count": 22,
   "id": "bdee52a8",
   "metadata": {},
   "outputs": [],
   "source": [
    "from sklearn.model_selection import train_test_split\n",
    "X_train, X_test, y_train, y_test = train_test_split(X, y, test_size=0.2, random_state=0)\n"
   ]
  },
  {
   "cell_type": "code",
   "execution_count": 23,
   "id": "73f6a752",
   "metadata": {},
   "outputs": [],
   "source": [
    "from sklearn.preprocessing import StandardScaler\n",
    "\n",
    "sc = StandardScaler()\n",
    "X_train_SS = sc.fit_transform(X_train)\n",
    "X_test_SS = sc.transform(X_test)\n"
   ]
  },
  {
   "cell_type": "code",
   "execution_count": 24,
   "id": "988f7695",
   "metadata": {},
   "outputs": [
    {
     "data": {
      "text/plain": [
       "Index(['id', 'loading', 'attribute_0', 'attribute_1', 'attribute_2',\n",
       "       'attribute_3', 'measurement_0', 'measurement_1', 'measurement_2',\n",
       "       'measurement_3', 'measurement_4', 'measurement_5', 'measurement_6',\n",
       "       'measurement_7', 'measurement_8', 'measurement_9', 'measurement_10',\n",
       "       'measurement_11', 'measurement_12', 'measurement_13', 'measurement_14',\n",
       "       'measurement_15', 'measurement_16', 'measurement_17'],\n",
       "      dtype='object')"
      ]
     },
     "execution_count": 24,
     "metadata": {},
     "output_type": "execute_result"
    }
   ],
   "source": [
    "cols = X_train.columns\n",
    "cols"
   ]
  },
  {
   "cell_type": "code",
   "execution_count": 25,
   "id": "e87e1710",
   "metadata": {},
   "outputs": [
    {
     "data": {
      "text/plain": [
       "array([[-1.09525832, -1.60704929, -1.18270956, ..., -0.16648211,\n",
       "         0.55053714, -0.02846637],\n",
       "       [-0.5185661 ,  3.72637072, -1.56909089, ..., -0.70245946,\n",
       "         0.57047318,  0.11359982],\n",
       "       [ 0.0832166 ,  0.62357754, -1.36207688, ...,  0.73845976,\n",
       "         0.39820883,  0.20349456],\n",
       "       ...,\n",
       "       [ 0.21950207, -2.50988761,  2.84619331, ..., -0.8139973 ,\n",
       "         0.24019763, -0.19406196],\n",
       "       [-0.75561957, -3.4430695 ,  0.27745283, ..., -0.35361322,\n",
       "        -0.40043001,  0.19036928],\n",
       "       [ 3.2456811 ,  1.80610053, -0.91245081, ..., -0.07295792,\n",
       "         0.06125142, -0.02066356]])"
      ]
     },
     "execution_count": 25,
     "metadata": {},
     "output_type": "execute_result"
    }
   ],
   "source": [
    "from sklearn.decomposition import PCA\n",
    "\n",
    "pca = PCA()\n",
    "X_train_pca = pca.fit_transform(X_train_SS)\n",
    "X_test_pca = pca.transform(X_test_SS)\n",
    "X_train_pca"
   ]
  },
  {
   "cell_type": "code",
   "execution_count": 26,
   "id": "94cd816c",
   "metadata": {},
   "outputs": [
    {
     "data": {
      "text/plain": [
       "array([0.13297727, 0.07538611, 0.07057693, 0.0524674 , 0.04685892,\n",
       "       0.04587489, 0.04273011, 0.04217053, 0.04204453, 0.04170266,\n",
       "       0.04145525, 0.04104333, 0.04079235, 0.04017463, 0.03863355,\n",
       "       0.03746208, 0.03532557, 0.03385826, 0.03052647, 0.02918766,\n",
       "       0.02365186, 0.00838643, 0.00587573, 0.00083749])"
      ]
     },
     "execution_count": 26,
     "metadata": {},
     "output_type": "execute_result"
    }
   ],
   "source": [
    "explained_variance = pca.explained_variance_ratio_\n",
    "explained_variance"
   ]
  },
  {
   "cell_type": "code",
   "execution_count": 27,
   "id": "ccb4e640",
   "metadata": {},
   "outputs": [],
   "source": [
    "n_estimators = 69\n",
    "max_depth = 15"
   ]
  },
  {
   "cell_type": "code",
   "execution_count": 28,
   "id": "be797d60",
   "metadata": {},
   "outputs": [
    {
     "name": "stdout",
     "output_type": "stream",
     "text": [
      "Train accurancy 0.8195333082423786\n",
      "Train number of correctly predicted 17420\n",
      "test accurancy 0.7937523522770041\n",
      "test number of correctly predicted 4218\n",
      "Classification report:\n",
      "               precision    recall  f1-score   support\n",
      "\n",
      "           0       0.79      1.00      0.88      4217\n",
      "           1       1.00      0.00      0.00      1097\n",
      "\n",
      "    accuracy                           0.79      5314\n",
      "   macro avg       0.90      0.50      0.44      5314\n",
      "weighted avg       0.84      0.79      0.70      5314\n",
      "\n",
      "Confusion matrix:\n",
      " [[4217    0]\n",
      " [1096    1]]\n",
      "F1 Score: 0.0018214936247723133\n",
      "Recall score: 0.0009115770282588879\n",
      "Precision score: 1.0\n",
      "AUC score: 0.5004557885141294\n"
     ]
    }
   ],
   "source": [
    "from sklearn.ensemble import RandomForestClassifier, GradientBoostingClassifier\n",
    "\n",
    "\n",
    "random_forest = RandomForestClassifier(\n",
    "    n_estimators=n_estimators, max_depth=max_depth, random_state=10\n",
    ")\n",
    "\n",
    "random_forest.fit(X_train_pca, y_train)\n",
    "\n",
    "\n",
    "predict = random_forest.predict(X_train_pca)\n",
    "\n",
    "print(\"Train accurancy\", accuracy_score(y_train, predict))\n",
    "#If False, return the number of correctly classified samples. Otherwise, return the fraction of correctly classified samples.\n",
    "print(\"Train number of correctly predicted\", accuracy_score(y_train, predict, normalize=False))\n",
    "\n",
    "pred_test = random_forest.predict(X_test_pca)\n",
    "print(\"test accurancy\", accuracy_score(y_test, pred_test))\n",
    "print(\"test number of correctly predicted\", accuracy_score(y_test, pred_test, normalize=False))\n",
    "print('Classification report:\\n', classification_report(y_test, pred_test))\n",
    "print('Confusion matrix:\\n', confusion_matrix(y_test, pred_test))\n",
    "\n",
    "print(\"F1 Score: {}\".format(f1_score(y_test, pred_test)))\n",
    "print(\"Recall score: {}\".format(recall_score(y_test, pred_test)))\n",
    "print(\"Precision score: {}\".format(precision_score(y_test, pred_test)))\n",
    "print(\"AUC score: {}\".format(roc_auc_score(y_test, pred_test)))\n"
   ]
  },
  {
   "cell_type": "code",
   "execution_count": 36,
   "id": "97a342c5",
   "metadata": {},
   "outputs": [
    {
     "name": "stdout",
     "output_type": "stream",
     "text": [
      "Train accurancy 0.9993884079789236\n",
      "Train number of correctly predicted 17257\n",
      "test accurancy 0.7914941663530297\n",
      "test number of correctly predicted 4206\n",
      "Classification report:\n",
      "               precision    recall  f1-score   support\n",
      "\n",
      "           0       0.80      0.99      0.88      4217\n",
      "           1       0.42      0.03      0.05      1097\n",
      "\n",
      "    accuracy                           0.79      5314\n",
      "   macro avg       0.61      0.51      0.47      5314\n",
      "weighted avg       0.72      0.79      0.71      5314\n",
      "\n",
      "Confusion matrix:\n",
      " [[4176   41]\n",
      " [1067   30]]\n",
      "F1 Score: 0.05136986301369863\n",
      "Recall score: 0.027347310847766638\n",
      "Precision score: 0.4225352112676056\n",
      "[[4176   41]\n",
      " [1067   30]]\n",
      "Precision score: 0.4225352112676056\n",
      "AUC score: 0.508812379635408\n"
     ]
    }
   ],
   "source": [
    "gradient_boosting = GradientBoostingClassifier(n_estimators=n_estimators, max_depth=max_depth, random_state=10)\n",
    "gradient_boosting.fit(X_train_pca, y_train)\n",
    "\n",
    "pred = gradient_boosting.predict(X_train_pca)\n",
    "\n",
    "print(\"Train accurancy\", accuracy_score(y_train, pred))\n",
    "#If False, return the number of correctly classified samples. Otherwise, return the fraction of correctly classified samples.\n",
    "print(\"Train number of correctly predicted\", accuracy_score(y_train, predict, normalize=False))\n",
    "\n",
    "pred_test = gradient_boosting.predict(X_test_pca)\n",
    "print(\"test accurancy\", accuracy_score(y_test, pred_test))\n",
    "print(\"test number of correctly predicted\", accuracy_score(y_test, pred_test, normalize=False))\n",
    "print('Classification report:\\n', classification_report(y_test, pred_test))\n",
    "print('Confusion matrix:\\n', confusion_matrix(y_test, pred_test))\n",
    "\n",
    "print(\"F1 Score: {}\".format(f1_score(y_test, pred_test)))\n",
    "print(\"Recall score: {}\".format(recall_score(y_test, pred_test)))\n",
    "print(\"Precision score: {}\".format(precision_score(y_test, pred_test)))\n",
    "print(confusion_matrix(y_test, pred_test))\n",
    "print(\"Precision score: {}\".format(precision_score(y_test, pred_test)))\n",
    "print(\"AUC score: {}\".format(roc_auc_score(y_test, pred_test)))\n"
   ]
  },
  {
   "cell_type": "code",
   "execution_count": 30,
   "id": "dab0de65",
   "metadata": {},
   "outputs": [
    {
     "data": {
      "text/html": [
       "<style>#sk-container-id-1 {color: black;background-color: white;}#sk-container-id-1 pre{padding: 0;}#sk-container-id-1 div.sk-toggleable {background-color: white;}#sk-container-id-1 label.sk-toggleable__label {cursor: pointer;display: block;width: 100%;margin-bottom: 0;padding: 0.3em;box-sizing: border-box;text-align: center;}#sk-container-id-1 label.sk-toggleable__label-arrow:before {content: \"▸\";float: left;margin-right: 0.25em;color: #696969;}#sk-container-id-1 label.sk-toggleable__label-arrow:hover:before {color: black;}#sk-container-id-1 div.sk-estimator:hover label.sk-toggleable__label-arrow:before {color: black;}#sk-container-id-1 div.sk-toggleable__content {max-height: 0;max-width: 0;overflow: hidden;text-align: left;background-color: #f0f8ff;}#sk-container-id-1 div.sk-toggleable__content pre {margin: 0.2em;color: black;border-radius: 0.25em;background-color: #f0f8ff;}#sk-container-id-1 input.sk-toggleable__control:checked~div.sk-toggleable__content {max-height: 200px;max-width: 100%;overflow: auto;}#sk-container-id-1 input.sk-toggleable__control:checked~label.sk-toggleable__label-arrow:before {content: \"▾\";}#sk-container-id-1 div.sk-estimator input.sk-toggleable__control:checked~label.sk-toggleable__label {background-color: #d4ebff;}#sk-container-id-1 div.sk-label input.sk-toggleable__control:checked~label.sk-toggleable__label {background-color: #d4ebff;}#sk-container-id-1 input.sk-hidden--visually {border: 0;clip: rect(1px 1px 1px 1px);clip: rect(1px, 1px, 1px, 1px);height: 1px;margin: -1px;overflow: hidden;padding: 0;position: absolute;width: 1px;}#sk-container-id-1 div.sk-estimator {font-family: monospace;background-color: #f0f8ff;border: 1px dotted black;border-radius: 0.25em;box-sizing: border-box;margin-bottom: 0.5em;}#sk-container-id-1 div.sk-estimator:hover {background-color: #d4ebff;}#sk-container-id-1 div.sk-parallel-item::after {content: \"\";width: 100%;border-bottom: 1px solid gray;flex-grow: 1;}#sk-container-id-1 div.sk-label:hover label.sk-toggleable__label {background-color: #d4ebff;}#sk-container-id-1 div.sk-serial::before {content: \"\";position: absolute;border-left: 1px solid gray;box-sizing: border-box;top: 0;bottom: 0;left: 50%;z-index: 0;}#sk-container-id-1 div.sk-serial {display: flex;flex-direction: column;align-items: center;background-color: white;padding-right: 0.2em;padding-left: 0.2em;position: relative;}#sk-container-id-1 div.sk-item {position: relative;z-index: 1;}#sk-container-id-1 div.sk-parallel {display: flex;align-items: stretch;justify-content: center;background-color: white;position: relative;}#sk-container-id-1 div.sk-item::before, #sk-container-id-1 div.sk-parallel-item::before {content: \"\";position: absolute;border-left: 1px solid gray;box-sizing: border-box;top: 0;bottom: 0;left: 50%;z-index: -1;}#sk-container-id-1 div.sk-parallel-item {display: flex;flex-direction: column;z-index: 1;position: relative;background-color: white;}#sk-container-id-1 div.sk-parallel-item:first-child::after {align-self: flex-end;width: 50%;}#sk-container-id-1 div.sk-parallel-item:last-child::after {align-self: flex-start;width: 50%;}#sk-container-id-1 div.sk-parallel-item:only-child::after {width: 0;}#sk-container-id-1 div.sk-dashed-wrapped {border: 1px dashed gray;margin: 0 0.4em 0.5em 0.4em;box-sizing: border-box;padding-bottom: 0.4em;background-color: white;}#sk-container-id-1 div.sk-label label {font-family: monospace;font-weight: bold;display: inline-block;line-height: 1.2em;}#sk-container-id-1 div.sk-label-container {text-align: center;}#sk-container-id-1 div.sk-container {/* jupyter's `normalize.less` sets `[hidden] { display: none; }` but bootstrap.min.css set `[hidden] { display: none !important; }` so we also need the `!important` here to be able to override the default hidden behavior on the sphinx rendered scikit-learn.org. See: https://github.com/scikit-learn/scikit-learn/issues/21755 */display: inline-block !important;position: relative;}#sk-container-id-1 div.sk-text-repr-fallback {display: none;}</style><div id=\"sk-container-id-1\" class=\"sk-top-container\"><div class=\"sk-text-repr-fallback\"><pre>RandomTreesEmbedding(max_depth=15, n_estimators=69, random_state=10)</pre><b>In a Jupyter environment, please rerun this cell to show the HTML representation or trust the notebook. <br />On GitHub, the HTML representation is unable to render, please try loading this page with nbviewer.org.</b></div><div class=\"sk-container\" hidden><div class=\"sk-item\"><div class=\"sk-estimator sk-toggleable\"><input class=\"sk-toggleable__control sk-hidden--visually\" id=\"sk-estimator-id-1\" type=\"checkbox\" checked><label for=\"sk-estimator-id-1\" class=\"sk-toggleable__label sk-toggleable__label-arrow\">RandomTreesEmbedding</label><div class=\"sk-toggleable__content\"><pre>RandomTreesEmbedding(max_depth=15, n_estimators=69, random_state=10)</pre></div></div></div></div></div>"
      ],
      "text/plain": [
       "RandomTreesEmbedding(max_depth=15, n_estimators=69, random_state=10)"
      ]
     },
     "execution_count": 30,
     "metadata": {},
     "output_type": "execute_result"
    }
   ],
   "source": [
    "#The RandomTreesEmbedding is an unsupervised method and thus does not required to be trained independently.\n",
    "from sklearn.ensemble import RandomTreesEmbedding\n",
    "\n",
    "random_tree_embedding = RandomTreesEmbedding(n_estimators=n_estimators, max_depth=max_depth, random_state=10)\n",
    "\n",
    "random_tree_embedding.fit(X_train_pca, y_train)\n",
    "\n",
    "# predict = random_tree_embedding.predict(X_train)"
   ]
  },
  {
   "cell_type": "code",
   "execution_count": 37,
   "id": "ea840375",
   "metadata": {},
   "outputs": [
    {
     "name": "stderr",
     "output_type": "stream",
     "text": [
      "C:\\Users\\shanusingh\\AppData\\Roaming\\Python\\Python39\\site-packages\\sklearn\\linear_model\\_logistic.py:444: ConvergenceWarning: lbfgs failed to converge (status=1):\n",
      "STOP: TOTAL NO. of ITERATIONS REACHED LIMIT.\n",
      "\n",
      "Increase the number of iterations (max_iter) or scale the data as shown in:\n",
      "    https://scikit-learn.org/stable/modules/preprocessing.html\n",
      "Please also refer to the documentation for alternative solver options:\n",
      "    https://scikit-learn.org/stable/modules/linear_model.html#logistic-regression\n",
      "  n_iter_i = _check_optimize_result(\n"
     ]
    },
    {
     "data": {
      "text/html": [
       "<style>#sk-container-id-4 {color: black;background-color: white;}#sk-container-id-4 pre{padding: 0;}#sk-container-id-4 div.sk-toggleable {background-color: white;}#sk-container-id-4 label.sk-toggleable__label {cursor: pointer;display: block;width: 100%;margin-bottom: 0;padding: 0.3em;box-sizing: border-box;text-align: center;}#sk-container-id-4 label.sk-toggleable__label-arrow:before {content: \"▸\";float: left;margin-right: 0.25em;color: #696969;}#sk-container-id-4 label.sk-toggleable__label-arrow:hover:before {color: black;}#sk-container-id-4 div.sk-estimator:hover label.sk-toggleable__label-arrow:before {color: black;}#sk-container-id-4 div.sk-toggleable__content {max-height: 0;max-width: 0;overflow: hidden;text-align: left;background-color: #f0f8ff;}#sk-container-id-4 div.sk-toggleable__content pre {margin: 0.2em;color: black;border-radius: 0.25em;background-color: #f0f8ff;}#sk-container-id-4 input.sk-toggleable__control:checked~div.sk-toggleable__content {max-height: 200px;max-width: 100%;overflow: auto;}#sk-container-id-4 input.sk-toggleable__control:checked~label.sk-toggleable__label-arrow:before {content: \"▾\";}#sk-container-id-4 div.sk-estimator input.sk-toggleable__control:checked~label.sk-toggleable__label {background-color: #d4ebff;}#sk-container-id-4 div.sk-label input.sk-toggleable__control:checked~label.sk-toggleable__label {background-color: #d4ebff;}#sk-container-id-4 input.sk-hidden--visually {border: 0;clip: rect(1px 1px 1px 1px);clip: rect(1px, 1px, 1px, 1px);height: 1px;margin: -1px;overflow: hidden;padding: 0;position: absolute;width: 1px;}#sk-container-id-4 div.sk-estimator {font-family: monospace;background-color: #f0f8ff;border: 1px dotted black;border-radius: 0.25em;box-sizing: border-box;margin-bottom: 0.5em;}#sk-container-id-4 div.sk-estimator:hover {background-color: #d4ebff;}#sk-container-id-4 div.sk-parallel-item::after {content: \"\";width: 100%;border-bottom: 1px solid gray;flex-grow: 1;}#sk-container-id-4 div.sk-label:hover label.sk-toggleable__label {background-color: #d4ebff;}#sk-container-id-4 div.sk-serial::before {content: \"\";position: absolute;border-left: 1px solid gray;box-sizing: border-box;top: 0;bottom: 0;left: 50%;z-index: 0;}#sk-container-id-4 div.sk-serial {display: flex;flex-direction: column;align-items: center;background-color: white;padding-right: 0.2em;padding-left: 0.2em;position: relative;}#sk-container-id-4 div.sk-item {position: relative;z-index: 1;}#sk-container-id-4 div.sk-parallel {display: flex;align-items: stretch;justify-content: center;background-color: white;position: relative;}#sk-container-id-4 div.sk-item::before, #sk-container-id-4 div.sk-parallel-item::before {content: \"\";position: absolute;border-left: 1px solid gray;box-sizing: border-box;top: 0;bottom: 0;left: 50%;z-index: -1;}#sk-container-id-4 div.sk-parallel-item {display: flex;flex-direction: column;z-index: 1;position: relative;background-color: white;}#sk-container-id-4 div.sk-parallel-item:first-child::after {align-self: flex-end;width: 50%;}#sk-container-id-4 div.sk-parallel-item:last-child::after {align-self: flex-start;width: 50%;}#sk-container-id-4 div.sk-parallel-item:only-child::after {width: 0;}#sk-container-id-4 div.sk-dashed-wrapped {border: 1px dashed gray;margin: 0 0.4em 0.5em 0.4em;box-sizing: border-box;padding-bottom: 0.4em;background-color: white;}#sk-container-id-4 div.sk-label label {font-family: monospace;font-weight: bold;display: inline-block;line-height: 1.2em;}#sk-container-id-4 div.sk-label-container {text-align: center;}#sk-container-id-4 div.sk-container {/* jupyter's `normalize.less` sets `[hidden] { display: none; }` but bootstrap.min.css set `[hidden] { display: none !important; }` so we also need the `!important` here to be able to override the default hidden behavior on the sphinx rendered scikit-learn.org. See: https://github.com/scikit-learn/scikit-learn/issues/21755 */display: inline-block !important;position: relative;}#sk-container-id-4 div.sk-text-repr-fallback {display: none;}</style><div id=\"sk-container-id-4\" class=\"sk-top-container\"><div class=\"sk-text-repr-fallback\"><pre>Pipeline(steps=[(&#x27;randomtreesembedding&#x27;,\n",
       "                 RandomTreesEmbedding(max_depth=15, n_estimators=69,\n",
       "                                      random_state=10)),\n",
       "                (&#x27;logisticregression&#x27;, LogisticRegression())])</pre><b>In a Jupyter environment, please rerun this cell to show the HTML representation or trust the notebook. <br />On GitHub, the HTML representation is unable to render, please try loading this page with nbviewer.org.</b></div><div class=\"sk-container\" hidden><div class=\"sk-item sk-dashed-wrapped\"><div class=\"sk-label-container\"><div class=\"sk-label sk-toggleable\"><input class=\"sk-toggleable__control sk-hidden--visually\" id=\"sk-estimator-id-8\" type=\"checkbox\" ><label for=\"sk-estimator-id-8\" class=\"sk-toggleable__label sk-toggleable__label-arrow\">Pipeline</label><div class=\"sk-toggleable__content\"><pre>Pipeline(steps=[(&#x27;randomtreesembedding&#x27;,\n",
       "                 RandomTreesEmbedding(max_depth=15, n_estimators=69,\n",
       "                                      random_state=10)),\n",
       "                (&#x27;logisticregression&#x27;, LogisticRegression())])</pre></div></div></div><div class=\"sk-serial\"><div class=\"sk-item\"><div class=\"sk-estimator sk-toggleable\"><input class=\"sk-toggleable__control sk-hidden--visually\" id=\"sk-estimator-id-9\" type=\"checkbox\" ><label for=\"sk-estimator-id-9\" class=\"sk-toggleable__label sk-toggleable__label-arrow\">RandomTreesEmbedding</label><div class=\"sk-toggleable__content\"><pre>RandomTreesEmbedding(max_depth=15, n_estimators=69, random_state=10)</pre></div></div></div><div class=\"sk-item\"><div class=\"sk-estimator sk-toggleable\"><input class=\"sk-toggleable__control sk-hidden--visually\" id=\"sk-estimator-id-10\" type=\"checkbox\" ><label for=\"sk-estimator-id-10\" class=\"sk-toggleable__label sk-toggleable__label-arrow\">LogisticRegression</label><div class=\"sk-toggleable__content\"><pre>LogisticRegression()</pre></div></div></div></div></div></div></div>"
      ],
      "text/plain": [
       "Pipeline(steps=[('randomtreesembedding',\n",
       "                 RandomTreesEmbedding(max_depth=15, n_estimators=69,\n",
       "                                      random_state=10)),\n",
       "                ('logisticregression', LogisticRegression())])"
      ]
     },
     "execution_count": 37,
     "metadata": {},
     "output_type": "execute_result"
    }
   ],
   "source": [
    "# Now, we will create three pipelines that will use the above embedding as a preprocessing stage.\n",
    "\n",
    "# The random trees embedding can be directly pipelined with the logistic regression because it is a standard scikit-learn transformer.\n",
    "\n",
    "from sklearn.linear_model import LogisticRegression\n",
    "from sklearn.pipeline import make_pipeline\n",
    "\n",
    "rt_model = make_pipeline(random_tree_embedding, LogisticRegression(max_iter=100, penalty=\"l2\"))\n",
    "rt_model.fit(X_train, y_train)\n",
    "\n",
    "# predict = rt_model.predict(X_train)\n",
    "\n",
    "# from sklearn.metrics import accuracy_score\n",
    "# print(\"Train accurancy\", accuracy_score(y_train, predict))\n",
    "# #If False, return the number of correctly classified samples. Otherwise, return the fraction of correctly classified samples.\n",
    "# print(\"Train number of correctly predicted\", accuracy_score(y_train, predict, normalize=False))\n",
    "\n",
    "# pred_test = rt_model.predict(X_test)\n",
    "# print(\"Train accurancy\", accuracy_score(y_test, pred_test))\n",
    "# print(\"Train number of correctly predicted\", accuracy_score(y_test, pred_test, normalize=False))\n"
   ]
  },
  {
   "cell_type": "code",
   "execution_count": 48,
   "id": "70652fb5",
   "metadata": {},
   "outputs": [
    {
     "name": "stdout",
     "output_type": "stream",
     "text": [
      "Train accurancy 0.5490214527662778\n",
      "Train number of correctly predicted 11670\n",
      "Train accurancy 0.5472337222431314\n",
      "Train number of correctly predicted 2908\n",
      "[[2303 1914]\n",
      " [ 492  605]]\n",
      "Precision score: 0.24017467248908297\n",
      "AUC score: 0.5488134691180314\n"
     ]
    }
   ],
   "source": [
    "from sklearn.preprocessing import FunctionTransformer\n",
    "from sklearn.preprocessing import OneHotEncoder\n",
    "\n",
    "def rf_apply(X, model):\n",
    "    return model.apply(X)\n",
    "\n",
    "\n",
    "rf_leaves_yielder = FunctionTransformer(rf_apply, kw_args={\"model\": random_forest})\n",
    "\n",
    "rf_model = make_pipeline(\n",
    "    rf_leaves_yielder,\n",
    "    OneHotEncoder(handle_unknown=\"ignore\"),\n",
    "    LogisticRegression(C=1, penalty='l1', max_iter=10001, class_weight='balanced', solver=\"liblinear\"),\n",
    ")\n",
    "rf_model.fit(X_train_pca, y_train)\n",
    "\n",
    "predict = rf_model.predict(X_train_pca)\n",
    "\n",
    "from sklearn.metrics import accuracy_score\n",
    "print(\"Train accurancy\", accuracy_score(y_train, predict))\n",
    "#If False, return the number of correctly classified samples. Otherwise, return the fraction of correctly classified samples.\n",
    "print(\"Train number of correctly predicted\", accuracy_score(y_train, predict, normalize=False))\n",
    "\n",
    "pred_test = rf_model.predict(X_test_pca)\n",
    "print(\"Train accurancy\", accuracy_score(y_test, pred_test))\n",
    "print(\"Train number of correctly predicted\", accuracy_score(y_test, pred_test, normalize=False))\n",
    "print(confusion_matrix(y_test, pred_test))\n",
    "print(\"Precision score: {}\".format(precision_score(y_test, pred_test)))\n",
    "print(\"AUC score: {}\".format(roc_auc_score(y_test, pred_test)))\n"
   ]
  },
  {
   "cell_type": "code",
   "execution_count": 47,
   "id": "f48a6d65",
   "metadata": {},
   "outputs": [
    {
     "name": "stdout",
     "output_type": "stream",
     "text": [
      "Train accurancy 0.8337881068874671\n",
      "Train number of correctly predicted 17723\n",
      "Train accurancy 0.7903650733910426\n",
      "Train number of correctly predicted 4200\n",
      "[[4192   25]\n",
      " [1089    8]]\n",
      "Precision score: 0.24242424242424243\n",
      "AUC score: 0.5006821155590873\n"
     ]
    }
   ],
   "source": [
    "def gbdt_apply(X, model):\n",
    "    return model.apply(X)[:, :, 0]\n",
    "\n",
    "gbdt_leaves_yielder = FunctionTransformer(gbdt_apply, kw_args={\"model\": gradient_boosting}\n",
    ")\n",
    "\n",
    "gbdt_model = make_pipeline(\n",
    "    gbdt_leaves_yielder,\n",
    "    OneHotEncoder(handle_unknown=\"ignore\"),\n",
    "    LogisticRegression(max_iter=1000,tol=0.2, C=0.005, penalty='l2'),\n",
    ")\n",
    "gbdt_model.fit(X_train_pca, y_train)\n",
    "\n",
    "predict = gbdt_model.predict(X_train_pca)\n",
    "\n",
    "from sklearn.metrics import accuracy_score\n",
    "print(\"Train accurancy\", accuracy_score(y_train, predict))\n",
    "#If False, return the number of correctly classified samples. Otherwise, return the fraction of correctly classified samples.\n",
    "print(\"Train number of correctly predicted\", accuracy_score(y_train, predict, normalize=False))\n",
    "\n",
    "pred_test = gbdt_model.predict(X_test_pca)\n",
    "print(\"Train accurancy\", accuracy_score(y_test, pred_test))\n",
    "print(\"Train number of correctly predicted\", accuracy_score(y_test, pred_test, normalize=False))\n",
    "print(confusion_matrix(y_test, pred_test))\n",
    "print(\"Precision score: {}\".format(precision_score(y_test, pred_test)))\n",
    "print(\"AUC score: {}\".format(roc_auc_score(y_test, pred_test)))\n"
   ]
  },
  {
   "cell_type": "code",
   "execution_count": 40,
   "id": "85162113",
   "metadata": {},
   "outputs": [
    {
     "name": "stderr",
     "output_type": "stream",
     "text": [
      "C:\\Users\\shanusingh\\AppData\\Roaming\\Python\\Python39\\site-packages\\sklearn\\base.py:450: UserWarning: X does not have valid feature names, but RandomTreesEmbedding was fitted with feature names\n",
      "  warnings.warn(\n"
     ]
    },
    {
     "data": {
      "image/png": "[encoded data removed]",
      "text/plain": [
       "<Figure size 432x288 with 1 Axes>"
      ]
     },
     "metadata": {
      "needs_background": "light"
     },
     "output_type": "display_data"
    }
   ],
   "source": [
    "#We can finally show the different ROC curves for all the models.\n",
    "#from sklearn.metrics import RocCurveDisplay\n",
    "\n",
    "from sklearn.metrics import RocCurveDisplay\n",
    "\n",
    "fig, ax = plt.subplots()\n",
    "\n",
    "models = [\n",
    "    (\"RT embeding -> LR\", rt_model),\n",
    "    (\"RF\", random_forest),\n",
    "    (\"RF embedding -> LR\", rf_model),\n",
    "    (\"GBTD ->\", gradient_boosting),\n",
    "    (\"GBDT embedding -> LR\", gbdt_model),\n",
    "]\n",
    "\n",
    "\n",
    "\n",
    "model_displays = {}\n",
    "for name, pipeline in models:\n",
    "    model_displays['name'] = RocCurveDisplay.from_estimator(\n",
    "        pipeline, X_train_pca, y_train, ax=ax, name=name\n",
    "    )\n",
    "    \n",
    "_ = ax.set_title(\"ROC Curve\");"
   ]
  },
  {
   "cell_type": "code",
   "execution_count": 41,
   "id": "3a8de974",
   "metadata": {},
   "outputs": [
    {
     "data": {
      "image/png": "[encoded data removed]",
      "text/plain": [
       "<Figure size 432x288 with 1 Axes>"
      ]
     },
     "metadata": {
      "needs_background": "light"
     },
     "output_type": "display_data"
    }
   ],
   "source": [
    "fig, ax = plt.subplots()\n",
    "for name, pipeline in models:\n",
    "    model_displays[\"name\"].plot(ax=ax)\n",
    "\n",
    "ax.set_xlim(0, 0.2)\n",
    "ax.set_ylim(0.8, 1)\n",
    "_ = ax.set_title(\"ROC curve (zoomed in at top left)\")"
   ]
  },
  {
   "cell_type": "code",
   "execution_count": 42,
   "id": "f00bfd34",
   "metadata": {},
   "outputs": [
    {
     "name": "stderr",
     "output_type": "stream",
     "text": [
      "C:\\Users\\shanusingh\\AppData\\Roaming\\Python\\Python39\\site-packages\\sklearn\\base.py:450: UserWarning: X does not have valid feature names, but RandomTreesEmbedding was fitted with feature names\n",
      "  warnings.warn(\n"
     ]
    },
    {
     "data": {
      "image/png": "[encoded data removed]",
      "text/plain": [
       "<Figure size 432x288 with 1 Axes>"
      ]
     },
     "metadata": {
      "needs_background": "light"
     },
     "output_type": "display_data"
    }
   ],
   "source": [
    "from sklearn.metrics import RocCurveDisplay\n",
    "\n",
    "fig, ax = plt.subplots()\n",
    "\n",
    "models = [\n",
    "    (\"RT embeding -> LR\", rt_model),\n",
    "    (\"RF\", random_forest),\n",
    "    (\"RF embedding -> LR\", rf_model),\n",
    "    (\"GBTD ->\", gradient_boosting),\n",
    "    (\"GBDT embedding -> LR\", gbdt_model),\n",
    "]\n",
    "\n",
    "\n",
    "\n",
    "model_displays = {}\n",
    "for name, pipeline in models:\n",
    "    model_displays['name'] = RocCurveDisplay.from_estimator(\n",
    "        pipeline, X_test_pca, y_test, ax=ax, name=name\n",
    "    )\n",
    "    \n",
    "_ = ax.set_title(\"ROC Curve\");"
   ]
  },
  {
   "cell_type": "markdown",
   "id": "5da561f0",
   "metadata": {},
   "source": [
    "https://scikit-learn.org/stable/auto_examples/ensemble/plot_feature_transformation.html#sphx-glr-auto-examples-ensemble-plot-feature-transformation-py"
   ]
  },
  {
   "cell_type": "code",
   "execution_count": 43,
   "id": "4e680ce8",
   "metadata": {},
   "outputs": [],
   "source": [
    "#from sklearn.preprocessing import power_transform\n",
    "from sklearn.preprocessing import PowerTransformer\n",
    "\n",
    "#power = PowerTransformer(method='yeo-johnson', standardize=True)\n",
    "pt = PowerTransformer(method=\"yeo-johnson\", standardize=False)\n",
    "x_train_pt = pt.fit_transform(X_train)\n",
    "x_test_pt = pt.transform(X_test)\n"
   ]
  },
  {
   "cell_type": "code",
   "execution_count": 44,
   "id": "0c770a4e",
   "metadata": {},
   "outputs": [
    {
     "name": "stdout",
     "output_type": "stream",
     "text": [
      "Train accurancy 0.8112532931878058\n",
      "Train number of correctly predicted 17244\n",
      "Train accurancy 0.7935641701166729\n",
      "Train number of correctly predicted 4217\n",
      "AUC score: 0.5\n"
     ]
    }
   ],
   "source": [
    "from sklearn.ensemble import RandomForestClassifier, GradientBoostingClassifier\n",
    "\n",
    "\n",
    "random_forest = RandomForestClassifier(\n",
    "    n_estimators=n_estimators, max_depth=max_depth, random_state=10\n",
    ")\n",
    "\n",
    "random_forest.fit(x_train_pt, y_train)\n",
    "\n",
    "\n",
    "predict = random_forest.predict(x_train_pt)\n",
    "\n",
    "print(\"Train accurancy\", accuracy_score(y_train, predict))\n",
    "#If False, return the number of correctly classified samples. Otherwise, return the fraction of correctly classified samples.\n",
    "print(\"Train number of correctly predicted\", accuracy_score(y_train, predict, normalize=False))\n",
    "\n",
    "pred_test = random_forest.predict(x_test_pt)\n",
    "print(\"Train accurancy\", accuracy_score(y_test, pred_test))\n",
    "print(\"Train number of correctly predicted\", accuracy_score(y_test, pred_test, normalize=False))\n",
    "print(\"AUC score: {}\".format(roc_auc_score(y_test, pred_test)))\n"
   ]
  },
  {
   "cell_type": "code",
   "execution_count": 83,
   "id": "abf11399",
   "metadata": {},
   "outputs": [
    {
     "name": "stdout",
     "output_type": "stream",
     "text": [
      "Train accurancy 1.0\n",
      "Train number of correctly predicted 19128\n",
      "Train accurancy 0.7834023334587881\n",
      "Train number of correctly predicted 4163\n"
     ]
    }
   ],
   "source": [
    "gradient_boosting = GradientBoostingClassifier(n_estimators=n_estimators, max_depth=max_depth, random_state=10)\n",
    "gradient_boosting.fit(x_train_pt, y_train)\n",
    "\n",
    "pred = gradient_boosting.predict(x_train_pt)\n",
    "\n",
    "print(\"Train accurancy\", accuracy_score(y_train, pred))\n",
    "#If False, return the number of correctly classified samples. Otherwise, return the fraction of correctly classified samples.\n",
    "print(\"Train number of correctly predicted\", accuracy_score(y_train, predict, normalize=False))\n",
    "\n",
    "pred_test = gradient_boosting.predict(x_test_pt)\n",
    "print(\"Train accurancy\", accuracy_score(y_test, pred_test))\n",
    "print(\"Train number of correctly predicted\", accuracy_score(y_test, pred_test, normalize=False))"
   ]
  },
  {
   "cell_type": "code",
   "execution_count": 93,
   "id": "2f1f34fb",
   "metadata": {},
   "outputs": [],
   "source": [
    "from sklearn.preprocessing import StandardScaler\n",
    "scaler = StandardScaler()\n",
    "X_train_ss = scaler.fit_transform(X_train)\n",
    "X_test_ss = scaler.fit_transform(X_test)"
   ]
  },
  {
   "cell_type": "code",
   "execution_count": 94,
   "id": "ed865536",
   "metadata": {},
   "outputs": [
    {
     "name": "stdout",
     "output_type": "stream",
     "text": [
      "Train accurancy 0.8999811817839669\n",
      "Train number of correctly predicted 19130\n",
      "Train accurancy 0.7869777945050809\n",
      "Train number of correctly predicted 4182\n"
     ]
    }
   ],
   "source": [
    "from sklearn.ensemble import RandomForestClassifier, GradientBoostingClassifier\n",
    "\n",
    "\n",
    "random_forest = RandomForestClassifier(\n",
    "    n_estimators=n_estimators, max_depth=max_depth, random_state=10\n",
    ")\n",
    "\n",
    "random_forest.fit(X_train_ss, y_train)\n",
    "\n",
    "\n",
    "predict = random_forest.predict(X_train_ss)\n",
    "\n",
    "print(\"Train accurancy\", accuracy_score(y_train, predict))\n",
    "#If False, return the number of correctly classified samples. Otherwise, return the fraction of correctly classified samples.\n",
    "print(\"Train number of correctly predicted\", accuracy_score(y_train, predict, normalize=False))\n",
    "\n",
    "pred_test = random_forest.predict(X_test_ss)\n",
    "print(\"Train accurancy\", accuracy_score(y_test, pred_test))\n",
    "print(\"Train number of correctly predicted\", accuracy_score(y_test, pred_test, normalize=False))"
   ]
  },
  {
   "cell_type": "code",
   "execution_count": 95,
   "id": "7006dbac",
   "metadata": {},
   "outputs": [
    {
     "name": "stdout",
     "output_type": "stream",
     "text": [
      "Train accurancy 1.0\n",
      "Train number of correctly predicted 19130\n",
      "Train accurancy 0.7835905156191193\n",
      "Train number of correctly predicted 4164\n"
     ]
    }
   ],
   "source": [
    "gradient_boosting = GradientBoostingClassifier(n_estimators=n_estimators, max_depth=max_depth, random_state=10)\n",
    "gradient_boosting.fit(X_train_ss, y_train)\n",
    "\n",
    "pred = gradient_boosting.predict(X_train_ss)\n",
    "\n",
    "print(\"Train accurancy\", accuracy_score(y_train, pred))\n",
    "#If False, return the number of correctly classified samples. Otherwise, return the fraction of correctly classified samples.\n",
    "print(\"Train number of correctly predicted\", accuracy_score(y_train, predict, normalize=False))\n",
    "\n",
    "pred_test = gradient_boosting.predict(X_test_ss)\n",
    "print(\"Train accurancy\", accuracy_score(y_test, pred_test))\n",
    "print(\"Train number of correctly predicted\", accuracy_score(y_test, pred_test, normalize=False))"
   ]
  },
  {
   "cell_type": "code",
   "execution_count": 91,
   "id": "e383b5ed",
   "metadata": {},
   "outputs": [],
   "source": [
    "from sklearn.preprocessing import MinMaxScaler\n",
    "min_max_scaler = MinMaxScaler()\n",
    "\n",
    "X_train_mms = min_max_scaler.fit_transform(X_train)\n",
    "X_test_mms = min_max_scaler.fit_transform(X_test)"
   ]
  },
  {
   "cell_type": "code",
   "execution_count": 92,
   "id": "9f89d500",
   "metadata": {},
   "outputs": [
    {
     "name": "stdout",
     "output_type": "stream",
     "text": [
      "Train accurancy 0.8997929996236357\n",
      "Train number of correctly predicted 19126\n",
      "Train accurancy 0.7877305231464057\n",
      "Train number of correctly predicted 4186\n"
     ]
    }
   ],
   "source": [
    "from sklearn.ensemble import RandomForestClassifier, GradientBoostingClassifier\n",
    "\n",
    "\n",
    "random_forest = RandomForestClassifier(\n",
    "    n_estimators=n_estimators, max_depth=max_depth, random_state=10\n",
    ")\n",
    "\n",
    "random_forest.fit(X_train_mms, y_train)\n",
    "\n",
    "\n",
    "predict = random_forest.predict(X_train_mms)\n",
    "\n",
    "print(\"Train accurancy\", accuracy_score(y_train, predict))\n",
    "#If False, return the number of correctly classified samples. Otherwise, return the fraction of correctly classified samples.\n",
    "print(\"Train number of correctly predicted\", accuracy_score(y_train, predict, normalize=False))\n",
    "\n",
    "pred_test = random_forest.predict(X_test_mms)\n",
    "print(\"Train accurancy\", accuracy_score(y_test, pred_test))\n",
    "print(\"Train number of correctly predicted\", accuracy_score(y_test, pred_test, normalize=False))"
   ]
  },
  {
   "cell_type": "code",
   "execution_count": 96,
   "id": "05af0686",
   "metadata": {},
   "outputs": [
    {
     "name": "stdout",
     "output_type": "stream",
     "text": [
      "Train accurancy 1.0\n",
      "Train number of correctly predicted 19130\n",
      "Train accurancy 0.7773805043281897\n",
      "Train number of correctly predicted 4131\n"
     ]
    }
   ],
   "source": [
    "gradient_boosting = GradientBoostingClassifier(n_estimators=n_estimators, max_depth=max_depth, random_state=10)\n",
    "gradient_boosting.fit(X_train_mms, y_train)\n",
    "\n",
    "pred = gradient_boosting.predict(X_train_mms)\n",
    "\n",
    "print(\"Train accurancy\", accuracy_score(y_train, pred))\n",
    "#If False, return the number of correctly classified samples. Otherwise, return the fraction of correctly classified samples.\n",
    "print(\"Train number of correctly predicted\", accuracy_score(y_train, predict, normalize=False))\n",
    "\n",
    "pred_test = gradient_boosting.predict(X_test_mms)\n",
    "print(\"Train accurancy\", accuracy_score(y_test, pred_test))\n",
    "print(\"Train number of correctly predicted\", accuracy_score(y_test, pred_test, normalize=False))"
   ]
  },
  {
   "cell_type": "code",
   "execution_count": 98,
   "id": "0b667198",
   "metadata": {},
   "outputs": [
    {
     "name": "stdout",
     "output_type": "stream",
     "text": [
      "Train accurancy 0.7874012043658262\n",
      "Train number of correctly predicted 16737\n",
      "Train accurancy 0.7873541588257433\n",
      "Train number of correctly predicted 4184\n"
     ]
    }
   ],
   "source": [
    "from sklearn.preprocessing import FunctionTransformer\n",
    "from sklearn.preprocessing import OneHotEncoder\n",
    "\n",
    "def rf_apply(X, model):\n",
    "    return model.apply(X)\n",
    "\n",
    "\n",
    "rf_leaves_yielder = FunctionTransformer(rf_apply, kw_args={\"model\": random_forest})\n",
    "\n",
    "rf_model = make_pipeline(\n",
    "    rf_leaves_yielder,\n",
    "    OneHotEncoder(handle_unknown=\"ignore\"),\n",
    "    LogisticRegression(max_iter=1000,tol=0.2, C=0.0001, penalty='l2'),\n",
    ")\n",
    "rf_model.fit(X_train_mms, y_train)\n",
    "\n",
    "predict = rf_model.predict(X_train_mms)\n",
    "\n",
    "from sklearn.metrics import accuracy_score\n",
    "print(\"Train accurancy\", accuracy_score(y_train, predict))\n",
    "#If False, return the number of correctly classified samples. Otherwise, return the fraction of correctly classified samples.\n",
    "print(\"Train number of correctly predicted\", accuracy_score(y_train, predict, normalize=False))\n",
    "\n",
    "pred_test = rf_model.predict(X_test_mms)\n",
    "print(\"Train accurancy\", accuracy_score(y_test, pred_test))\n",
    "print(\"Train number of correctly predicted\", accuracy_score(y_test, pred_test, normalize=False))\n"
   ]
  },
  {
   "cell_type": "code",
   "execution_count": 100,
   "id": "ee02291a",
   "metadata": {},
   "outputs": [
    {
     "name": "stderr",
     "output_type": "stream",
     "text": [
      "C:\\ProgramData\\Anaconda3\\lib\\site-packages\\sklearn\\utils\\deprecation.py:87: FutureWarning: Function plot_roc_curve is deprecated; Function :func:`plot_roc_curve` is deprecated in 1.0 and will be removed in 1.2. Use one of the class methods: :meth:`sklearn.metric.RocCurveDisplay.from_predictions` or :meth:`sklearn.metric.RocCurveDisplay.from_estimator`.\n",
      "  warnings.warn(msg, category=FutureWarning)\n"
     ]
    },
    {
     "data": {
      "image/png": "[encoded data removed]",
      "text/plain": [
       "<Figure size 432x288 with 1 Axes>"
      ]
     },
     "metadata": {
      "needs_background": "light"
     },
     "output_type": "display_data"
    }
   ],
   "source": [
    "from sklearn.metrics import plot_roc_curve\n",
    "\n",
    "rf_disp = plot_roc_curve(rf_model, X_test_mms, y_test)\n"
   ]
  },
  {
   "cell_type": "code",
   "execution_count": null,
   "id": "152d7ae9",
   "metadata": {},
   "outputs": [],
   "source": [
    "from sklearn.svm import SVC\n",
    "from sklearn.metrics import roc_auc_score\n",
    "clf = SVC(decision_function_shape=\"ovo\", probability=True).fit(X_train_mms, y_train)\n",
    "print(roc_auc_score(y_train, clf.predict_proba(X_train_mms), multi_class=\"ovo\"))"
   ]
  },
  {
   "cell_type": "code",
   "execution_count": 50,
   "id": "e916f066",
   "metadata": {},
   "outputs": [
    {
     "name": "stderr",
     "output_type": "stream",
     "text": [
      "C:\\Users\\shanusingh\\AppData\\Roaming\\Python\\Python39\\site-packages\\lightgbm\\engine.py:177: UserWarning: Found `num_boost_round` in params. Will use it instead of argument\n",
      "  _log_warning(f\"Found `{alias}` in params. Will use it instead of argument\")\n"
     ]
    },
    {
     "name": "stdout",
     "output_type": "stream",
     "text": [
      "[LightGBM] [Warning] boosting is set=gbdt, boosting_type=gbdt will be ignored. Current value: boosting=gbdt\n",
      "[LightGBM] [Warning] feature_fraction is set=0.9, colsample_bytree=1.0 will be ignored. Current value: feature_fraction=0.9\n",
      "[LightGBM] [Warning] min_data_in_leaf is set=40, min_child_samples=20 will be ignored. Current value: min_data_in_leaf=40\n",
      "[LightGBM] [Warning] bagging_fraction is set=0.9, subsample=1.0 will be ignored. Current value: bagging_fraction=0.9\n",
      "[LightGBM] [Warning] lambda_l2 is set=2, reg_lambda=0.0 will be ignored. Current value: lambda_l2=2\n",
      "[LightGBM] [Warning] bagging_freq is set=10, subsample_freq=0 will be ignored. Current value: bagging_freq=10\n",
      "[LightGBM] [Warning] num_iterations is set=70, num_boost_round=70 will be ignored. Current value: num_iterations=70\n",
      "Train accurancy 0.7858487015430937\n",
      "Train number of correctly predicted 16704\n"
     ]
    }
   ],
   "source": [
    "\n",
    "from lightgbm import LGBMClassifier\n",
    "\n",
    "model2 = LGBMClassifier(**{'seed': 42, 'n_jobs': -1, 'lambda_l2': 2, 'metric': \"auc\", 'max_depth': -1,\n",
    "                           'num_leaves': 100, 'boosting': 'gbdt', 'bagging_freq': 10, 'learning_rate': 0.01,\n",
    "                           'objective': 'binary', 'min_data_in_leaf': 40, 'num_boost_round': 70,\n",
    "                           'feature_fraction': 0.90, 'bagging_fraction': 0.90})\n",
    "\n",
    "model2.fit(X_train_pca, y_train)\n",
    "predict = model2.predict(X_train_pca)\n",
    "\n",
    "from sklearn.metrics import accuracy_score\n",
    "print(\"Train accurancy\", accuracy_score(y_train, predict))\n",
    "#If False, return the number of correctly classified samples. Otherwise, return the fraction of correctly classified samples.\n",
    "print(\"Train number of correctly predicted\", accuracy_score(y_train, predict, normalize=False))"
   ]
  },
  {
   "cell_type": "code",
   "execution_count": 51,
   "id": "50e620f5",
   "metadata": {},
   "outputs": [
    {
     "name": "stdout",
     "output_type": "stream",
     "text": [
      "Train accurancy 0.7935641701166729\n",
      "Train number of correctly predicted 4217\n",
      "[[4217    0]\n",
      " [1097    0]]\n",
      "Precision score: 0.0\n",
      "AUC score: 0.5\n"
     ]
    },
    {
     "name": "stderr",
     "output_type": "stream",
     "text": [
      "C:\\Users\\shanusingh\\AppData\\Roaming\\Python\\Python39\\site-packages\\sklearn\\metrics\\_classification.py:1334: UndefinedMetricWarning: Precision is ill-defined and being set to 0.0 due to no predicted samples. Use `zero_division` parameter to control this behavior.\n",
      "  _warn_prf(average, modifier, msg_start, len(result))\n"
     ]
    }
   ],
   "source": [
    "pred_test = model2.predict(X_test_pca)\n",
    "print(\"Train accurancy\", accuracy_score(y_test, pred_test))\n",
    "print(\"Train number of correctly predicted\", accuracy_score(y_test, pred_test, normalize=False))\n",
    "print(confusion_matrix(y_test, pred_test))\n",
    "print(\"Precision score: {}\".format(precision_score(y_test, pred_test)))\n",
    "print(\"AUC score: {}\".format(roc_auc_score(y_test, pred_test)))\n"
   ]
  },
  {
   "cell_type": "code",
   "execution_count": null,
   "id": "8006bf01",
   "metadata": {},
   "outputs": [],
   "source": []
  }
 ],
 "metadata": {
  "kernelspec": {
   "display_name": "Python 3 (ipykernel)",
   "language": "python",
   "name": "python3"
  },
  "language_info": {
   "codemirror_mode": {
    "name": "ipython",
    "version": 3
   },
   "file_extension": ".py",
   "mimetype": "text/x-python",
   "name": "python",
   "nbconvert_exporter": "python",
   "pygments_lexer": "ipython3",
   "version": "3.9.13"
  }
 },
 "nbformat": 4,
 "nbformat_minor": 5
}
