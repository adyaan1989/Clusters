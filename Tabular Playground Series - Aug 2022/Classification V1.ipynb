{
 "cells": [
  {
   "cell_type": "code",
   "execution_count": 1,
   "id": "f81db4f3",
   "metadata": {},
   "outputs": [],
   "source": [
    "import numpy as np\n",
    "import pandas as pd\n",
    "import matplotlib.pyplot as plt\n",
    "import seaborn as sns"
   ]
  },
  {
   "cell_type": "code",
   "execution_count": 48,
   "id": "493c6942",
   "metadata": {},
   "outputs": [
    {
     "data": {
      "text/plain": [
       "(26570, 26)"
      ]
     },
     "execution_count": 48,
     "metadata": {},
     "output_type": "execute_result"
    }
   ],
   "source": [
    "df = pd.read_csv('train.csv/train.csv')\n",
    "\n",
    "df.shape"
   ]
  },
  {
   "cell_type": "code",
   "execution_count": 49,
   "id": "1cec2a5e",
   "metadata": {},
   "outputs": [
    {
     "data": {
      "text/plain": [
       "26570"
      ]
     },
     "execution_count": 49,
     "metadata": {},
     "output_type": "execute_result"
    }
   ],
   "source": [
    "len(df[\"id\"].unique())"
   ]
  },
  {
   "cell_type": "code",
   "execution_count": 50,
   "id": "d9575c17",
   "metadata": {},
   "outputs": [
    {
     "data": {
      "text/html": [
       "<div>\n",
       "<style scoped>\n",
       "    .dataframe tbody tr th:only-of-type {\n",
       "        vertical-align: middle;\n",
       "    }\n",
       "\n",
       "    .dataframe tbody tr th {\n",
       "        vertical-align: top;\n",
       "    }\n",
       "\n",
       "    .dataframe thead th {\n",
       "        text-align: right;\n",
       "    }\n",
       "</style>\n",
       "<table border=\"1\" class=\"dataframe\">\n",
       "  <thead>\n",
       "    <tr style=\"text-align: right;\">\n",
       "      <th></th>\n",
       "      <th>id</th>\n",
       "      <th>product_code</th>\n",
       "      <th>loading</th>\n",
       "      <th>attribute_0</th>\n",
       "      <th>attribute_1</th>\n",
       "      <th>attribute_2</th>\n",
       "      <th>attribute_3</th>\n",
       "      <th>measurement_0</th>\n",
       "      <th>measurement_1</th>\n",
       "      <th>measurement_2</th>\n",
       "      <th>...</th>\n",
       "      <th>measurement_9</th>\n",
       "      <th>measurement_10</th>\n",
       "      <th>measurement_11</th>\n",
       "      <th>measurement_12</th>\n",
       "      <th>measurement_13</th>\n",
       "      <th>measurement_14</th>\n",
       "      <th>measurement_15</th>\n",
       "      <th>measurement_16</th>\n",
       "      <th>measurement_17</th>\n",
       "      <th>failure</th>\n",
       "    </tr>\n",
       "  </thead>\n",
       "  <tbody>\n",
       "    <tr>\n",
       "      <th>0</th>\n",
       "      <td>0</td>\n",
       "      <td>A</td>\n",
       "      <td>80.10</td>\n",
       "      <td>material_7</td>\n",
       "      <td>material_8</td>\n",
       "      <td>9</td>\n",
       "      <td>5</td>\n",
       "      <td>7</td>\n",
       "      <td>8</td>\n",
       "      <td>4</td>\n",
       "      <td>...</td>\n",
       "      <td>10.672</td>\n",
       "      <td>15.859</td>\n",
       "      <td>17.594</td>\n",
       "      <td>15.193</td>\n",
       "      <td>15.029</td>\n",
       "      <td>NaN</td>\n",
       "      <td>13.034</td>\n",
       "      <td>14.684</td>\n",
       "      <td>764.100</td>\n",
       "      <td>0</td>\n",
       "    </tr>\n",
       "    <tr>\n",
       "      <th>1</th>\n",
       "      <td>1</td>\n",
       "      <td>A</td>\n",
       "      <td>84.89</td>\n",
       "      <td>material_7</td>\n",
       "      <td>material_8</td>\n",
       "      <td>9</td>\n",
       "      <td>5</td>\n",
       "      <td>14</td>\n",
       "      <td>3</td>\n",
       "      <td>3</td>\n",
       "      <td>...</td>\n",
       "      <td>12.448</td>\n",
       "      <td>17.947</td>\n",
       "      <td>17.915</td>\n",
       "      <td>11.755</td>\n",
       "      <td>14.732</td>\n",
       "      <td>15.425</td>\n",
       "      <td>14.395</td>\n",
       "      <td>15.631</td>\n",
       "      <td>682.057</td>\n",
       "      <td>0</td>\n",
       "    </tr>\n",
       "    <tr>\n",
       "      <th>2</th>\n",
       "      <td>2</td>\n",
       "      <td>A</td>\n",
       "      <td>82.43</td>\n",
       "      <td>material_7</td>\n",
       "      <td>material_8</td>\n",
       "      <td>9</td>\n",
       "      <td>5</td>\n",
       "      <td>12</td>\n",
       "      <td>1</td>\n",
       "      <td>5</td>\n",
       "      <td>...</td>\n",
       "      <td>12.715</td>\n",
       "      <td>15.607</td>\n",
       "      <td>NaN</td>\n",
       "      <td>13.798</td>\n",
       "      <td>16.711</td>\n",
       "      <td>18.631</td>\n",
       "      <td>14.094</td>\n",
       "      <td>17.946</td>\n",
       "      <td>663.376</td>\n",
       "      <td>0</td>\n",
       "    </tr>\n",
       "    <tr>\n",
       "      <th>3</th>\n",
       "      <td>3</td>\n",
       "      <td>A</td>\n",
       "      <td>101.07</td>\n",
       "      <td>material_7</td>\n",
       "      <td>material_8</td>\n",
       "      <td>9</td>\n",
       "      <td>5</td>\n",
       "      <td>13</td>\n",
       "      <td>2</td>\n",
       "      <td>6</td>\n",
       "      <td>...</td>\n",
       "      <td>12.471</td>\n",
       "      <td>16.346</td>\n",
       "      <td>18.377</td>\n",
       "      <td>10.020</td>\n",
       "      <td>15.250</td>\n",
       "      <td>15.562</td>\n",
       "      <td>16.154</td>\n",
       "      <td>17.172</td>\n",
       "      <td>826.282</td>\n",
       "      <td>0</td>\n",
       "    </tr>\n",
       "    <tr>\n",
       "      <th>4</th>\n",
       "      <td>4</td>\n",
       "      <td>A</td>\n",
       "      <td>188.06</td>\n",
       "      <td>material_7</td>\n",
       "      <td>material_8</td>\n",
       "      <td>9</td>\n",
       "      <td>5</td>\n",
       "      <td>9</td>\n",
       "      <td>2</td>\n",
       "      <td>8</td>\n",
       "      <td>...</td>\n",
       "      <td>10.337</td>\n",
       "      <td>17.082</td>\n",
       "      <td>19.932</td>\n",
       "      <td>12.428</td>\n",
       "      <td>16.182</td>\n",
       "      <td>12.760</td>\n",
       "      <td>13.153</td>\n",
       "      <td>16.412</td>\n",
       "      <td>579.885</td>\n",
       "      <td>0</td>\n",
       "    </tr>\n",
       "  </tbody>\n",
       "</table>\n",
       "<p>5 rows × 26 columns</p>\n",
       "</div>"
      ],
      "text/plain": [
       "   id product_code  loading attribute_0 attribute_1  attribute_2  attribute_3  \\\n",
       "0   0            A    80.10  material_7  material_8            9            5   \n",
       "1   1            A    84.89  material_7  material_8            9            5   \n",
       "2   2            A    82.43  material_7  material_8            9            5   \n",
       "3   3            A   101.07  material_7  material_8            9            5   \n",
       "4   4            A   188.06  material_7  material_8            9            5   \n",
       "\n",
       "   measurement_0  measurement_1  measurement_2  ...  measurement_9  \\\n",
       "0              7              8              4  ...         10.672   \n",
       "1             14              3              3  ...         12.448   \n",
       "2             12              1              5  ...         12.715   \n",
       "3             13              2              6  ...         12.471   \n",
       "4              9              2              8  ...         10.337   \n",
       "\n",
       "   measurement_10  measurement_11  measurement_12  measurement_13  \\\n",
       "0          15.859          17.594          15.193          15.029   \n",
       "1          17.947          17.915          11.755          14.732   \n",
       "2          15.607             NaN          13.798          16.711   \n",
       "3          16.346          18.377          10.020          15.250   \n",
       "4          17.082          19.932          12.428          16.182   \n",
       "\n",
       "   measurement_14  measurement_15  measurement_16  measurement_17  failure  \n",
       "0             NaN          13.034          14.684         764.100        0  \n",
       "1          15.425          14.395          15.631         682.057        0  \n",
       "2          18.631          14.094          17.946         663.376        0  \n",
       "3          15.562          16.154          17.172         826.282        0  \n",
       "4          12.760          13.153          16.412         579.885        0  \n",
       "\n",
       "[5 rows x 26 columns]"
      ]
     },
     "execution_count": 50,
     "metadata": {},
     "output_type": "execute_result"
    }
   ],
   "source": [
    "df.head()"
   ]
  },
  {
   "cell_type": "code",
   "execution_count": 5,
   "id": "bb7ea85f",
   "metadata": {},
   "outputs": [
    {
     "data": {
      "text/plain": [
       "C    5765\n",
       "E    5343\n",
       "B    5250\n",
       "D    5112\n",
       "A    5100\n",
       "Name: product_code, dtype: int64"
      ]
     },
     "execution_count": 5,
     "metadata": {},
     "output_type": "execute_result"
    }
   ],
   "source": [
    "df.product_code.value_counts()"
   ]
  },
  {
   "cell_type": "code",
   "execution_count": 6,
   "id": "ea607188",
   "metadata": {},
   "outputs": [
    {
     "data": {
      "image/png": "[encoded data removed]",
      "text/plain": [
       "<Figure size 432x288 with 1 Axes>"
      ]
     },
     "metadata": {},
     "output_type": "display_data"
    }
   ],
   "source": [
    "df.attribute_0.value_counts().plot.pie();"
   ]
  },
  {
   "cell_type": "code",
   "execution_count": 8,
   "id": "8bd06619",
   "metadata": {},
   "outputs": [
    {
     "data": {
      "image/png": "[encoded data removed]",
      "text/plain": [
       "<Figure size 432x288 with 1 Axes>"
      ]
     },
     "metadata": {
      "needs_background": "light"
     },
     "output_type": "display_data"
    }
   ],
   "source": [
    "df.attribute_1.value_counts().plot.bar();"
   ]
  },
  {
   "cell_type": "code",
   "execution_count": 9,
   "id": "8fcd1a5a",
   "metadata": {},
   "outputs": [
    {
     "data": {
      "text/plain": [
       "id                   0\n",
       "product_code         0\n",
       "loading            250\n",
       "attribute_0          0\n",
       "attribute_1          0\n",
       "attribute_2          0\n",
       "attribute_3          0\n",
       "measurement_0        0\n",
       "measurement_1        0\n",
       "measurement_2        0\n",
       "measurement_3      381\n",
       "measurement_4      538\n",
       "measurement_5      676\n",
       "measurement_6      796\n",
       "measurement_7      937\n",
       "measurement_8     1048\n",
       "measurement_9     1227\n",
       "measurement_10    1300\n",
       "measurement_11    1468\n",
       "measurement_12    1601\n",
       "measurement_13    1774\n",
       "measurement_14    1874\n",
       "measurement_15    2009\n",
       "measurement_16    2110\n",
       "measurement_17    2284\n",
       "failure              0\n",
       "dtype: int64"
      ]
     },
     "execution_count": 9,
     "metadata": {},
     "output_type": "execute_result"
    }
   ],
   "source": [
    "df.isnull().sum()"
   ]
  },
  {
   "cell_type": "code",
   "execution_count": 21,
   "id": "24838441",
   "metadata": {},
   "outputs": [
    {
     "data": {
      "image/png": "[encoded data removed]",
      "text/plain": [
       "<Figure size 432x288 with 1 Axes>"
      ]
     },
     "metadata": {
      "needs_background": "light"
     },
     "output_type": "display_data"
    }
   ],
   "source": [
    "sns.histplot(data=df, x=\"loading\");"
   ]
  },
  {
   "cell_type": "code",
   "execution_count": 26,
   "id": "571b87ea",
   "metadata": {},
   "outputs": [
    {
     "data": {
      "text/plain": [
       "id                  int64\n",
       "product_code       object\n",
       "loading           float64\n",
       "attribute_0        object\n",
       "attribute_1        object\n",
       "attribute_2         int64\n",
       "attribute_3         int64\n",
       "measurement_0       int64\n",
       "measurement_1       int64\n",
       "measurement_2       int64\n",
       "measurement_3     float64\n",
       "measurement_4     float64\n",
       "measurement_5     float64\n",
       "measurement_6     float64\n",
       "measurement_7     float64\n",
       "measurement_8     float64\n",
       "measurement_9     float64\n",
       "measurement_10    float64\n",
       "measurement_11    float64\n",
       "measurement_12    float64\n",
       "measurement_13    float64\n",
       "measurement_14    float64\n",
       "measurement_15    float64\n",
       "measurement_16    float64\n",
       "measurement_17    float64\n",
       "failure             int64\n",
       "dtype: object"
      ]
     },
     "execution_count": 26,
     "metadata": {},
     "output_type": "execute_result"
    }
   ],
   "source": [
    "df.dtypes"
   ]
  },
  {
   "cell_type": "code",
   "execution_count": 51,
   "id": "c86ec11e",
   "metadata": {},
   "outputs": [],
   "source": [
    "#Let's fill the loading feature with median\n",
    "#Median_loading = df[\"loading\"].median()\n",
    "# df[\"loading\"].fillna(df[\"loading\"].mean(), inplace=True) filling with single columns\n",
    "# df.apply(lambda x: x.fillna(x.mean(), axis=0))\n",
    "for i in df.columns[df.isnull().any(axis=0)]:\n",
    "    df[i].fillna(df[i].mean(), inplace=True)"
   ]
  },
  {
   "cell_type": "code",
   "execution_count": 52,
   "id": "85ff4033",
   "metadata": {},
   "outputs": [],
   "source": [
    "#df.isnull().sum()"
   ]
  },
  {
   "cell_type": "code",
   "execution_count": 61,
   "id": "eb2ad5ed",
   "metadata": {},
   "outputs": [],
   "source": [
    "#split the attribute_2 and attribute_3\n",
    "df[\"attribute_0\"] = pd.factorize(df.attribute_0)[0]\n",
    "df[\"attribute_1\"] = pd.factorize(df.attribute_1)[0]\n",
    "df[\"product_code\"] = pd.factorize(df.product_code)[0]\n"
   ]
  },
  {
   "cell_type": "code",
   "execution_count": 63,
   "id": "ab9b4615",
   "metadata": {},
   "outputs": [
    {
     "data": {
      "text/plain": [
       "0    20921\n",
       "1     5649\n",
       "Name: failure, dtype: int64"
      ]
     },
     "execution_count": 63,
     "metadata": {},
     "output_type": "execute_result"
    }
   ],
   "source": [
    "df.failure.value_counts()"
   ]
  },
  {
   "cell_type": "code",
   "execution_count": 78,
   "id": "1c8f7e3c",
   "metadata": {},
   "outputs": [
    {
     "data": {
      "text/plain": [
       "(21256, 25)"
      ]
     },
     "execution_count": 78,
     "metadata": {},
     "output_type": "execute_result"
    }
   ],
   "source": [
    "X = df.drop(\"failure\", axis=1)\n",
    "y = df[\"failure\"]\n",
    "from sklearn.model_selection import train_test_split\n",
    "X_train, X_test, y_train, y_test = train_test_split(X, y, test_size=0.2, shuffle=True, stratify=y, random_state=123)\n",
    "X_train.shape"
   ]
  },
  {
   "cell_type": "code",
   "execution_count": 82,
   "id": "be797d60",
   "metadata": {},
   "outputs": [
    {
     "name": "stdout",
     "output_type": "stream",
     "text": [
      "Train accurancy 0.7872130222054949\n",
      "Train number of correctly predicted 16733\n",
      "Train accurancy 0.7875423409860746\n",
      "Train number of correctly predicted 4185\n"
     ]
    }
   ],
   "source": [
    "from sklearn.linear_model import LogisticRegression\n",
    "lr = LogisticRegression()\n",
    "lr.fit(X_train, y_train)\n",
    "\n",
    "predict = lr.predict(X_train)\n",
    "\n",
    "from sklearn.metrics import accuracy_score\n",
    "print(\"Train accurancy\", accuracy_score(y_train, predict))\n",
    "#If False, return the number of correctly classified samples. Otherwise, return the fraction of correctly classified samples.\n",
    "print(\"Train number of correctly predicted\", accuracy_score(y_train, predict, normalize=False))\n",
    "\n",
    "pred_test = lr.predict(X_test)\n",
    "print(\"Train accurancy\", accuracy_score(y_test, pred_test))\n",
    "print(\"Train number of correctly predicted\", accuracy_score(y_test, pred_test, normalize=False))\n"
   ]
  },
  {
   "cell_type": "code",
   "execution_count": 79,
   "id": "c3d357a1",
   "metadata": {},
   "outputs": [
    {
     "data": {
      "text/plain": [
       "0.7872130222054949"
      ]
     },
     "execution_count": 79,
     "metadata": {},
     "output_type": "execute_result"
    }
   ],
   "source": [
    "16733/21256"
   ]
  },
  {
   "cell_type": "code",
   "execution_count": 83,
   "id": "97a342c5",
   "metadata": {},
   "outputs": [
    {
     "data": {
      "text/plain": [
       "(5314, 25)"
      ]
     },
     "execution_count": 83,
     "metadata": {},
     "output_type": "execute_result"
    }
   ],
   "source": [
    "X_test.shape"
   ]
  },
  {
   "cell_type": "code",
   "execution_count": 84,
   "id": "dab0de65",
   "metadata": {},
   "outputs": [
    {
     "data": {
      "text/plain": [
       "0.7875423409860746"
      ]
     },
     "execution_count": 84,
     "metadata": {},
     "output_type": "execute_result"
    }
   ],
   "source": [
    "4185/5314"
   ]
  },
  {
   "cell_type": "code",
   "execution_count": 95,
   "id": "ea840375",
   "metadata": {},
   "outputs": [
    {
     "name": "stdout",
     "output_type": "stream",
     "text": [
      "Train accurancy 0.7874012043658262\n",
      "Train number of correctly predicted 16737\n",
      "Train accurancy 0.7871659766654121\n",
      "Train number of correctly predicted 4183\n"
     ]
    }
   ],
   "source": [
    "from sklearn.linear_model import LogisticRegression\n",
    "lr = LogisticRegression(penalty=\"l1\", tol=0.0005, max_iter=2010,  n_jobs = 1, solver=\"saga\", random_state=1234)\n",
    "lr.fit(X_train, y_train)\n",
    "\n",
    "predict = lr.predict(X_train)\n",
    "\n",
    "from sklearn.metrics import accuracy_score\n",
    "print(\"Train accurancy\", accuracy_score(y_train, predict))\n",
    "#If False, return the number of correctly classified samples. Otherwise, return the fraction of correctly classified samples.\n",
    "print(\"Train number of correctly predicted\", accuracy_score(y_train, predict, normalize=False))\n",
    "\n",
    "pred_test = lr.predict(X_test)\n",
    "print(\"Train accurancy\", accuracy_score(y_test, pred_test))\n",
    "print(\"Train number of correctly predicted\", accuracy_score(y_test, pred_test, normalize=False))\n"
   ]
  },
  {
   "cell_type": "code",
   "execution_count": 116,
   "id": "3e987f46",
   "metadata": {},
   "outputs": [
    {
     "name": "stdout",
     "output_type": "stream",
     "text": [
      "Train accurancy 0.7874012043658262\n",
      "Train number of correctly predicted 16737\n",
      "Train accurancy 0.7873541588257433\n",
      "Train number of correctly predicted 4184\n"
     ]
    }
   ],
   "source": [
    "from sklearn.model_selection import cross_val_score\n",
    ">>> from sklearn.tree import DecisionTreeClassifier\n",
    "\n",
    "dt = DecisionTreeClassifier(criterion=\"entropy\", min_samples_split=1010, max_depth=200,splitter='best',min_samples_leaf=150, min_weight_fraction_leaf=0.006,\n",
    "                            random_state=0, max_features=\"log2\")\n",
    "dt.fit(X_train, y_train)\n",
    "\n",
    "predict = dt.predict(X_train)\n",
    "\n",
    "from sklearn.metrics import accuracy_score\n",
    "print(\"Train accurancy\", accuracy_score(y_train, predict))\n",
    "#If False, return the number of correctly classified samples. Otherwise, return the fraction of correctly classified samples.\n",
    "print(\"Train number of correctly predicted\", accuracy_score(y_train, predict, normalize=False))\n",
    "\n",
    "pred_test = dt.predict(X_test)\n",
    "print(\"Train accurancy\", accuracy_score(y_test, pred_test))\n",
    "print(\"Train number of correctly predicted\", accuracy_score(y_test, pred_test, normalize=False))\n"
   ]
  },
  {
   "cell_type": "code",
   "execution_count": 120,
   "id": "f48a6d65",
   "metadata": {},
   "outputs": [
    {
     "data": {
      "text/plain": [
       "array([0.78873239, 0.78873239, 0.78873239, 0.78873239, 0.78873239,\n",
       "       0.78873239, 0.78873239, 0.78873239, 0.78873239, 0.78873239,\n",
       "       0.78873239, 0.78873239, 0.78873239, 0.78873239, 0.78873239,\n",
       "       0.78873239, 0.78873239, 0.78873239, 0.78873239, 0.78873239,\n",
       "       0.78873239, 0.78873239, 0.78873239, 0.78873239, 0.78873239,\n",
       "       0.78873239, 0.78873239, 0.78873239, 0.78873239, 0.78873239,\n",
       "       0.78873239, 0.78873239, 0.78873239, 0.78873239, 0.78873239,\n",
       "       0.78873239, 0.78873239, 0.78403756, 0.78403756, 0.78403756,\n",
       "       0.78403756, 0.78403756, 0.78403756, 0.78403756, 0.78403756,\n",
       "       0.78403756, 0.78403756, 0.78403756, 0.78403756, 0.78403756,\n",
       "       0.78403756, 0.78403756, 0.78403756, 0.78403756, 0.78403756,\n",
       "       0.78403756, 0.78773585, 0.78773585, 0.78773585, 0.78773585,\n",
       "       0.78773585, 0.78773585, 0.78773585, 0.78773585, 0.78773585,\n",
       "       0.78773585, 0.78773585, 0.78773585, 0.78773585, 0.78773585,\n",
       "       0.78773585, 0.78773585, 0.78773585, 0.78773585, 0.78773585,\n",
       "       0.78773585, 0.78773585, 0.78773585, 0.78773585, 0.78773585,\n",
       "       0.78773585, 0.78773585, 0.78773585, 0.78773585, 0.78773585,\n",
       "       0.78773585, 0.78773585, 0.78773585, 0.78773585, 0.78773585,\n",
       "       0.78773585, 0.78773585, 0.78773585, 0.78773585, 0.78773585,\n",
       "       0.78773585, 0.78773585, 0.78773585, 0.78773585, 0.78773585])"
      ]
     },
     "execution_count": 120,
     "metadata": {},
     "output_type": "execute_result"
    }
   ],
   "source": [
    "cross_val_score(dt, X_train, y_train, cv=100)"
   ]
  },
  {
   "cell_type": "code",
   "execution_count": 119,
   "id": "85162113",
   "metadata": {},
   "outputs": [
    {
     "data": {
      "text/plain": [
       "array([0.77777778, 0.77777778, 0.77777778, 0.77777778, 0.77777778,\n",
       "       0.77777778, 0.77777778, 0.77777778, 0.77777778, 0.77777778,\n",
       "       0.77777778, 0.77777778, 0.77777778, 0.77777778, 0.77358491,\n",
       "       0.77358491, 0.77358491, 0.77358491, 0.77358491, 0.77358491,\n",
       "       0.77358491, 0.77358491, 0.77358491, 0.77358491, 0.77358491,\n",
       "       0.77358491, 0.77358491, 0.77358491, 0.77358491, 0.77358491,\n",
       "       0.79245283, 0.79245283, 0.79245283, 0.79245283, 0.79245283,\n",
       "       0.79245283, 0.79245283, 0.79245283, 0.79245283, 0.79245283,\n",
       "       0.79245283, 0.79245283, 0.79245283, 0.79245283, 0.79245283,\n",
       "       0.79245283, 0.79245283, 0.79245283, 0.79245283, 0.79245283,\n",
       "       0.79245283, 0.79245283, 0.79245283, 0.79245283, 0.79245283,\n",
       "       0.79245283, 0.79245283, 0.79245283, 0.79245283, 0.79245283,\n",
       "       0.79245283, 0.79245283, 0.79245283, 0.79245283, 0.79245283,\n",
       "       0.79245283, 0.79245283, 0.79245283, 0.79245283, 0.79245283,\n",
       "       0.79245283, 0.79245283, 0.79245283, 0.79245283, 0.79245283,\n",
       "       0.79245283, 0.79245283, 0.79245283, 0.79245283, 0.79245283,\n",
       "       0.79245283, 0.79245283, 0.79245283, 0.79245283, 0.79245283,\n",
       "       0.79245283, 0.79245283, 0.79245283, 0.79245283, 0.79245283,\n",
       "       0.79245283, 0.79245283, 0.79245283, 0.79245283, 0.79245283,\n",
       "       0.79245283, 0.79245283, 0.79245283, 0.79245283, 0.79245283])"
      ]
     },
     "execution_count": 119,
     "metadata": {},
     "output_type": "execute_result"
    }
   ],
   "source": [
    "cross_val_score(dt, X_test, y_test, cv=100)"
   ]
  },
  {
   "cell_type": "code",
   "execution_count": 134,
   "id": "f00bfd34",
   "metadata": {},
   "outputs": [
    {
     "name": "stdout",
     "output_type": "stream",
     "text": [
      "Train accurancy 0.8671433948061724\n",
      "Train number of correctly predicted 18432\n",
      "Train accurancy 0.7817086940158073\n",
      "Train number of correctly predicted 4154\n"
     ]
    }
   ],
   "source": [
    "from sklearn.ensemble import RandomForestClassifier\n",
    "rf = RandomForestClassifier(n_estimators=10, n_jobs=1, max_depth=130, min_samples_split=21, random_state=123)\n",
    "rf.fit(X_train, y_train)\n",
    "\n",
    "predict = rf.predict(X_train)\n",
    "\n",
    "from sklearn.metrics import accuracy_score\n",
    "print(\"Train accurancy\", accuracy_score(y_train, predict))\n",
    "#If False, return the number of correctly classified samples. Otherwise, return the fraction of correctly classified samples.\n",
    "print(\"Train number of correctly predicted\", accuracy_score(y_train, predict, normalize=False))\n",
    "\n",
    "pred_test = rf.predict(X_test)\n",
    "print(\"Train accurancy\", accuracy_score(y_test, pred_test))\n",
    "print(\"Train number of correctly predicted\", accuracy_score(y_test, pred_test, normalize=False))\n"
   ]
  },
  {
   "cell_type": "code",
   "execution_count": 140,
   "id": "a09f96d2",
   "metadata": {},
   "outputs": [
    {
     "name": "stdout",
     "output_type": "stream",
     "text": [
      "Train accurancy 0.7894712081294694\n",
      "Train number of correctly predicted 16781\n",
      "Train accurancy 0.786036883703425\n",
      "Train number of correctly predicted 4177\n"
     ]
    }
   ],
   "source": [
    "from sklearn.ensemble import GradientBoostingClassifier\n",
    "#gb = GradientBoostingClassifier(n_estimators=1000, learning_rate=1.0,max_depth=20, random_state=2)\n",
    "gb = GradientBoostingClassifier()\n",
    "\n",
    "gb.fit(X_train, y_train)\n",
    "\n",
    "predict = gb.predict(X_train)\n",
    "\n",
    "from sklearn.metrics import accuracy_score\n",
    "print(\"Train accurancy\", accuracy_score(y_train, predict))\n",
    "#If False, return the number of correctly classified samples. Otherwise, return the fraction of correctly classified samples.\n",
    "print(\"Train number of correctly predicted\", accuracy_score(y_train, predict, normalize=False))\n",
    "\n",
    "pred_test = gb.predict(X_test)\n",
    "print(\"Train accurancy\", accuracy_score(y_test, pred_test))\n",
    "print(\"Train number of correctly predicted\", accuracy_score(y_test, pred_test, normalize=False))"
   ]
  },
  {
   "cell_type": "markdown",
   "id": "5da561f0",
   "metadata": {},
   "source": [
    "https://scikit-learn.org/stable/auto_examples/ensemble/plot_feature_transformation.html#sphx-glr-auto-examples-ensemble-plot-feature-transformation-py"
   ]
  },
  {
   "cell_type": "code",
   "execution_count": null,
   "id": "3a8de974",
   "metadata": {},
   "outputs": [],
   "source": []
  }
 ],
 "metadata": {
  "kernelspec": {
   "display_name": "Python 3 (ipykernel)",
   "language": "python",
   "name": "python3"
  },
  "language_info": {
   "codemirror_mode": {
    "name": "ipython",
    "version": 3
   },
   "file_extension": ".py",
   "mimetype": "text/x-python",
   "name": "python",
   "nbconvert_exporter": "python",
   "pygments_lexer": "ipython3",
   "version": "3.9.13"
  }
 },
 "nbformat": 4,
 "nbformat_minor": 5
}
